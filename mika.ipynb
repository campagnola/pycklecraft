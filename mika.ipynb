{
 "metadata": {
  "language_info": {
   "codemirror_mode": {
    "name": "ipython",
    "version": 3
   },
   "file_extension": ".py",
   "mimetype": "text/x-python",
   "name": "python",
   "nbconvert_exporter": "python",
   "pygments_lexer": "ipython3",
   "version": "3.8.5"
  },
  "orig_nbformat": 2,
  "kernelspec": {
   "name": "python3",
   "display_name": "Python 3.8.5 64-bit ('base': conda)"
  },
  "metadata": {
   "interpreter": {
    "hash": "aee8b7b246df8f9039afb4144a1f6fd8d2ca17a180786b69acc140d282b71a49"
   }
  },
  "interpreter": {
   "hash": "229db489fa231eaaf18dece1150aedb5d965922c1d3e7d766a396068cb94d372"
  }
 },
 "nbformat": 4,
 "nbformat_minor": 2,
 "cells": [
  {
   "cell_type": "code",
   "execution_count": 4,
   "metadata": {},
   "outputs": [],
   "source": [
    "import pycklecraft\n",
    "import sys\n",
    "\n",
    "p = pycklecraft.PicklecraftClient('localhost', verbose=True)"
   ]
  },
  {
   "cell_type": "code",
   "execution_count": 7,
   "metadata": {},
   "outputs": [
    {
     "output_type": "stream",
     "name": "stdout",
     "text": [
      "POST http://localhost:3200/rpc, {'method': 'setDayTime', 'time': 'day'}\n"
     ]
    },
    {
     "output_type": "execute_result",
     "data": {
      "text/plain": [
       "{'status': 'OK'}"
      ]
     },
     "metadata": {},
     "execution_count": 7
    }
   ],
   "source": [
    "p.set_day_time('day')"
   ]
  },
  {
   "cell_type": "code",
   "execution_count": 3,
   "metadata": {},
   "outputs": [
    {
     "output_type": "stream",
     "name": "stdout",
     "text": [
      "POST http://localhost:3200/rpc, {'method': 'getPlayer', 'name': 'mikalightsmith'}\n"
     ]
    }
   ],
   "source": [
    "mika = p.player('mikalightsmith')"
   ]
  },
  {
   "cell_type": "code",
   "execution_count": 13,
   "metadata": {},
   "outputs": [
    {
     "output_type": "stream",
     "name": "stdout",
     "text": [
      "POST http://localhost:3200/rpc, {'method': 'placeBlock', 'type': 'IRON_ORE', 'x': 58, 'y': 69, 'z': -126}\n"
     ]
    },
    {
     "output_type": "execute_result",
     "data": {
      "text/plain": [
       "{'status': 'OK'}"
      ]
     },
     "metadata": {},
     "execution_count": 13
    }
   ],
   "source": [
    "p.place_block('iron_ore', [mika.x, mika.y + 2, mika.z])\n"
   ]
  },
  {
   "cell_type": "code",
   "execution_count": 8,
   "metadata": {
    "tags": []
   },
   "outputs": [
    {
     "output_type": "stream",
     "name": "stdout",
     "text": [
      "POST http://localhost:3200/rpc, {'method': 'getPlayer', 'name': 'mikalightsmith'}\n"
     ]
    },
    {
     "output_type": "error",
     "ename": "TypeError",
     "evalue": "place_block() takes 3 positional arguments but 5 were given",
     "traceback": [
      "\u001b[0;31m---------------------------------------------------------------------------\u001b[0m",
      "\u001b[0;31mTypeError\u001b[0m                                 Traceback (most recent call last)",
      "\u001b[0;32m<ipython-input-8-3091c2c1a1c1>\u001b[0m in \u001b[0;36m<module>\u001b[0;34m\u001b[0m\n\u001b[1;32m      1\u001b[0m \u001b[0mplayer\u001b[0m \u001b[0;34m=\u001b[0m \u001b[0mp\u001b[0m\u001b[0;34m.\u001b[0m\u001b[0mplayer\u001b[0m\u001b[0;34m(\u001b[0m\u001b[0;34m'mikalightsmith'\u001b[0m\u001b[0;34m)\u001b[0m\u001b[0;34m\u001b[0m\u001b[0;34m\u001b[0m\u001b[0m\n\u001b[1;32m      2\u001b[0m \u001b[0;32mfor\u001b[0m \u001b[0mx\u001b[0m \u001b[0;32min\u001b[0m \u001b[0mrange\u001b[0m\u001b[0;34m(\u001b[0m\u001b[0;36m100\u001b[0m\u001b[0;34m)\u001b[0m\u001b[0;34m:\u001b[0m\u001b[0;34m\u001b[0m\u001b[0;34m\u001b[0m\u001b[0m\n\u001b[0;32m----> 3\u001b[0;31m     \u001b[0mp\u001b[0m\u001b[0;34m.\u001b[0m\u001b[0mplace_block\u001b[0m\u001b[0;34m(\u001b[0m\u001b[0;34m'DIAMOND_BLOCK'\u001b[0m\u001b[0;34m,\u001b[0m \u001b[0mplayer\u001b[0m\u001b[0;34m.\u001b[0m\u001b[0mx\u001b[0m\u001b[0;34m,\u001b[0m \u001b[0mplayer\u001b[0m\u001b[0;34m.\u001b[0m\u001b[0my\u001b[0m \u001b[0;34m+\u001b[0m \u001b[0mx\u001b[0m\u001b[0;34m,\u001b[0m \u001b[0mplayer\u001b[0m\u001b[0;34m.\u001b[0m\u001b[0mz\u001b[0m\u001b[0;34m)\u001b[0m\u001b[0;34m\u001b[0m\u001b[0;34m\u001b[0m\u001b[0m\n\u001b[0m",
      "\u001b[0;31mTypeError\u001b[0m: place_block() takes 3 positional arguments but 5 were given"
     ]
    }
   ],
   "source": [
    "player = p.player('mikalightsmith')\n",
    "for x in range(100):\n",
    "    p.place_block('DIAMOND_BLOCK', player.x, player.y + x, player.z)"
   ]
  },
  {
   "cell_type": "code",
   "execution_count": 1,
   "metadata": {},
   "outputs": [
    {
     "output_type": "error",
     "ename": "NameError",
     "evalue": "name 'p' is not defined",
     "traceback": [
      "\u001b[0;31m---------------------------------------------------------------------------\u001b[0m",
      "\u001b[0;31mNameError\u001b[0m                                 Traceback (most recent call last)",
      "\u001b[0;32m<ipython-input-1-9546f4a8b843>\u001b[0m in \u001b[0;36m<module>\u001b[0;34m\u001b[0m\n\u001b[0;32m----> 1\u001b[0;31m \u001b[0mp\u001b[0m\u001b[0;34m.\u001b[0m\u001b[0mlift_boot\u001b[0m\u001b[0;34m(\u001b[0m\u001b[0;34m)\u001b[0m\u001b[0;34m\u001b[0m\u001b[0;34m\u001b[0m\u001b[0m\n\u001b[0m",
      "\u001b[0;31mNameError\u001b[0m: name 'p' is not defined"
     ]
    }
   ],
   "source": [
    "p.lift_boot()"
   ]
  },
  {
   "cell_type": "code",
   "execution_count": 12,
   "metadata": {},
   "outputs": [
    {
     "output_type": "stream",
     "name": "stdout",
     "text": [
      "POST http://localhost:3200/rpc, {'method': 'getPlayer', 'name': 'mikalightsmith'}\nPOST http://localhost:3200/rpc, {'method': 'placeBlock', 'type': 'minecraft:lava', 'position': [65, 68, -135]}\nPOST http://localhost:3200/rpc, {'method': 'placeBlock', 'type': 'minecraft:lava', 'position': [64, 68, -136]}\nPOST http://localhost:3200/rpc, {'method': 'placeBlock', 'type': 'minecraft:lava', 'position': [63, 68, -136]}\nPOST http://localhost:3200/rpc, {'method': 'placeBlock', 'type': 'minecraft:lava', 'position': [62, 68, -136]}\nPOST http://localhost:3200/rpc, {'method': 'placeBlock', 'type': 'minecraft:lava', 'position': [61, 68, -137]}\nPOST http://localhost:3200/rpc, {'method': 'placeBlock', 'type': 'minecraft:lava', 'position': [60, 68, -137]}\nPOST http://localhost:3200/rpc, {'method': 'placeBlock', 'type': 'minecraft:lava', 'position': [59, 68, -137]}\nPOST http://localhost:3200/rpc, {'method': 'placeBlock', 'type': 'minecraft:lava', 'position': [58, 68, -138]}\nPOST http://localhost:3200/rpc, {'method': 'placeBlock', 'type': 'minecraft:lava', 'position': [57, 68, -138]}\nPOST http://localhost:3200/rpc, {'method': 'placeBlock', 'type': 'minecraft:lava', 'position': [56, 68, -138]}\nPOST http://localhost:3200/rpc, {'method': 'placeBlock', 'type': 'minecraft:lava', 'position': [55, 68, -139]}\nPOST http://localhost:3200/rpc, {'method': 'placeBlock', 'type': 'minecraft:lava', 'position': [54, 68, -139]}\nPOST http://localhost:3200/rpc, {'method': 'placeBlock', 'type': 'minecraft:lava', 'position': [53, 68, -139]}\nPOST http://localhost:3200/rpc, {'method': 'placeBlock', 'type': 'minecraft:lava', 'position': [52, 68, -140]}\nPOST http://localhost:3200/rpc, {'method': 'placeBlock', 'type': 'minecraft:lava', 'position': [51, 68, -140]}\nPOST http://localhost:3200/rpc, {'method': 'placeBlock', 'type': 'minecraft:lava', 'position': [50, 68, -140]}\nPOST http://localhost:3200/rpc, {'method': 'placeBlock', 'type': 'minecraft:lava', 'position': [50, 68, -141]}\nPOST http://localhost:3200/rpc, {'method': 'placeBlock', 'type': 'minecraft:lava', 'position': [49, 68, -141]}\nPOST http://localhost:3200/rpc, {'method': 'placeBlock', 'type': 'minecraft:lava', 'position': [48, 68, -141]}\nPOST http://localhost:3200/rpc, {'method': 'placeBlock', 'type': 'minecraft:lava', 'position': [47, 68, -142]}\n"
     ]
    }
   ],
   "source": [
    "mika = p.player('mikalightsmith')\n",
    "p.place_blocks_in_line('minecraft:lava', mika.position, mika.rotation[1], 20)"
   ]
  },
  {
   "cell_type": "code",
   "execution_count": 13,
   "metadata": {},
   "outputs": [
    {
     "output_type": "stream",
     "name": "stdout",
     "text": [
      "reading from localhost:3201...\n"
     ]
    }
   ],
   "source": [
    "\n",
    "\n",
    "\n",
    "\n",
    "def on_command(cmd):\n",
    "    print(\"CMD:\", cmd)\n",
    "\n",
    "p.set_on_command(on_command)\n"
   ]
  },
  {
   "cell_type": "code",
   "execution_count": null,
   "metadata": {},
   "outputs": [],
   "source": []
  },
  {
   "cell_type": "code",
   "execution_count": null,
   "metadata": {},
   "outputs": [],
   "source": []
  },
  {
   "cell_type": "code",
   "execution_count": null,
   "metadata": {},
   "outputs": [],
   "source": []
  },
  {
   "cell_type": "code",
   "execution_count": null,
   "metadata": {},
   "outputs": [],
   "source": []
  }
 ]
}