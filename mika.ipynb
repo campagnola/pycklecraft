{
 "metadata": {
  "language_info": {
   "codemirror_mode": {
    "name": "ipython",
    "version": 3
   },
   "file_extension": ".py",
   "mimetype": "text/x-python",
   "name": "python",
   "nbconvert_exporter": "python",
   "pygments_lexer": "ipython3",
   "version": "3.8.5"
  },
  "orig_nbformat": 2,
  "kernelspec": {
   "name": "python385jvsc74a57bd0229db489fa231eaaf18dece1150aedb5d965922c1d3e7d766a396068cb94d372",
   "display_name": "Python 3.8.5 64-bit ('base': conda)"
  },
  "metadata": {
   "interpreter": {
    "hash": "aee8b7b246df8f9039afb4144a1f6fd8d2ca17a180786b69acc140d282b71a49"
   }
  }
 },
 "nbformat": 4,
 "nbformat_minor": 2,
 "cells": [
  {
   "cell_type": "code",
   "execution_count": 73,
   "metadata": {},
   "outputs": [
    {
     "output_type": "stream",
     "name": "stdout",
     "text": [
      "reading from socket..\n"
     ]
    }
   ],
   "source": [
    "import pycklecraft\n",
    "import sys\n",
    "\n",
    "p = pycklecraft.PicklecraftClient('localhost', verbose=True)"
   ]
  },
  {
   "cell_type": "code",
   "execution_count": 11,
   "metadata": {},
   "outputs": [
    {
     "output_type": "stream",
     "name": "stdout",
     "text": [
      "POST http://localhost:3200/rpc, {'method': 'setDayTime', 'time': 'day'}\n"
     ]
    },
    {
     "output_type": "execute_result",
     "data": {
      "text/plain": [
       "{'status': 'OK'}"
      ]
     },
     "metadata": {},
     "execution_count": 11
    }
   ],
   "source": [
    "p.set_day_time('day')"
   ]
  },
  {
   "cell_type": "code",
   "execution_count": 12,
   "metadata": {},
   "outputs": [
    {
     "output_type": "stream",
     "name": "stdout",
     "text": [
      "POST http://localhost:3200/rpc, {'method': 'getPlayer', 'name': 'mikalightsmith'}\n"
     ]
    }
   ],
   "source": [
    "mika = p.player('mikalightsmith')"
   ]
  },
  {
   "cell_type": "code",
   "execution_count": 13,
   "metadata": {},
   "outputs": [
    {
     "output_type": "stream",
     "name": "stdout",
     "text": [
      "POST http://localhost:3200/rpc, {'method': 'placeBlock', 'type': 'IRON_ORE', 'x': 58, 'y': 69, 'z': -126}\n"
     ]
    },
    {
     "output_type": "execute_result",
     "data": {
      "text/plain": [
       "{'status': 'OK'}"
      ]
     },
     "metadata": {},
     "execution_count": 13
    }
   ],
   "source": [
    "p.place_block('iron_ore', [mika.x, mika.y + 2, mika.z])\n"
   ]
  },
  {
   "cell_type": "code",
   "execution_count": 96,
   "metadata": {
    "tags": []
   },
   "outputs": [
    {
     "output_type": "stream",
     "name": "stdout",
     "text": [
      "POST http://localhost:3200/rpc, {'method': 'getPlayer', 'name': 'mikalightsmith'}\n",
      "POST http://localhost:3200/rpc, {'method': 'placeBlock', 'type': 'DIAMOND_BLOCK', 'x': 111, 'y': 52, 'z': -95}\n",
      "POST http://localhost:3200/rpc, {'method': 'placeBlock', 'type': 'DIAMOND_BLOCK', 'x': 111, 'y': 53, 'z': -95}\n",
      "POST http://localhost:3200/rpc, {'method': 'placeBlock', 'type': 'DIAMOND_BLOCK', 'x': 111, 'y': 54, 'z': -95}\n",
      "POST http://localhost:3200/rpc, {'method': 'placeBlock', 'type': 'DIAMOND_BLOCK', 'x': 111, 'y': 55, 'z': -95}\n",
      "POST http://localhost:3200/rpc, {'method': 'placeBlock', 'type': 'DIAMOND_BLOCK', 'x': 111, 'y': 56, 'z': -95}\n",
      "POST http://localhost:3200/rpc, {'method': 'placeBlock', 'type': 'DIAMOND_BLOCK', 'x': 111, 'y': 57, 'z': -95}\n",
      "POST http://localhost:3200/rpc, {'method': 'placeBlock', 'type': 'DIAMOND_BLOCK', 'x': 111, 'y': 58, 'z': -95}\n",
      "POST http://localhost:3200/rpc, {'method': 'placeBlock', 'type': 'DIAMOND_BLOCK', 'x': 111, 'y': 59, 'z': -95}\n",
      "POST http://localhost:3200/rpc, {'method': 'placeBlock', 'type': 'DIAMOND_BLOCK', 'x': 111, 'y': 60, 'z': -95}\n",
      "POST http://localhost:3200/rpc, {'method': 'placeBlock', 'type': 'DIAMOND_BLOCK', 'x': 111, 'y': 61, 'z': -95}\n",
      "POST http://localhost:3200/rpc, {'method': 'placeBlock', 'type': 'DIAMOND_BLOCK', 'x': 111, 'y': 62, 'z': -95}\n",
      "POST http://localhost:3200/rpc, {'method': 'placeBlock', 'type': 'DIAMOND_BLOCK', 'x': 111, 'y': 63, 'z': -95}\n",
      "POST http://localhost:3200/rpc, {'method': 'placeBlock', 'type': 'DIAMOND_BLOCK', 'x': 111, 'y': 64, 'z': -95}\n",
      "POST http://localhost:3200/rpc, {'method': 'placeBlock', 'type': 'DIAMOND_BLOCK', 'x': 111, 'y': 65, 'z': -95}\n",
      "POST http://localhost:3200/rpc, {'method': 'placeBlock', 'type': 'DIAMOND_BLOCK', 'x': 111, 'y': 66, 'z': -95}\n",
      "POST http://localhost:3200/rpc, {'method': 'placeBlock', 'type': 'DIAMOND_BLOCK', 'x': 111, 'y': 67, 'z': -95}\n",
      "POST http://localhost:3200/rpc, {'method': 'placeBlock', 'type': 'DIAMOND_BLOCK', 'x': 111, 'y': 68, 'z': -95}\n",
      "POST http://localhost:3200/rpc, {'method': 'placeBlock', 'type': 'DIAMOND_BLOCK', 'x': 111, 'y': 69, 'z': -95}\n",
      "POST http://localhost:3200/rpc, {'method': 'placeBlock', 'type': 'DIAMOND_BLOCK', 'x': 111, 'y': 70, 'z': -95}\n",
      "POST http://localhost:3200/rpc, {'method': 'placeBlock', 'type': 'DIAMOND_BLOCK', 'x': 111, 'y': 71, 'z': -95}\n",
      "POST http://localhost:3200/rpc, {'method': 'placeBlock', 'type': 'DIAMOND_BLOCK', 'x': 111, 'y': 72, 'z': -95}\n",
      "POST http://localhost:3200/rpc, {'method': 'placeBlock', 'type': 'DIAMOND_BLOCK', 'x': 111, 'y': 73, 'z': -95}\n",
      "POST http://localhost:3200/rpc, {'method': 'placeBlock', 'type': 'DIAMOND_BLOCK', 'x': 111, 'y': 74, 'z': -95}\n",
      "POST http://localhost:3200/rpc, {'method': 'placeBlock', 'type': 'DIAMOND_BLOCK', 'x': 111, 'y': 75, 'z': -95}\n",
      "POST http://localhost:3200/rpc, {'method': 'placeBlock', 'type': 'DIAMOND_BLOCK', 'x': 111, 'y': 76, 'z': -95}\n",
      "POST http://localhost:3200/rpc, {'method': 'placeBlock', 'type': 'DIAMOND_BLOCK', 'x': 111, 'y': 77, 'z': -95}\n",
      "POST http://localhost:3200/rpc, {'method': 'placeBlock', 'type': 'DIAMOND_BLOCK', 'x': 111, 'y': 78, 'z': -95}\n",
      "POST http://localhost:3200/rpc, {'method': 'placeBlock', 'type': 'DIAMOND_BLOCK', 'x': 111, 'y': 79, 'z': -95}\n",
      "POST http://localhost:3200/rpc, {'method': 'placeBlock', 'type': 'DIAMOND_BLOCK', 'x': 111, 'y': 80, 'z': -95}\n",
      "POST http://localhost:3200/rpc, {'method': 'placeBlock', 'type': 'DIAMOND_BLOCK', 'x': 111, 'y': 81, 'z': -95}\n",
      "POST http://localhost:3200/rpc, {'method': 'placeBlock', 'type': 'DIAMOND_BLOCK', 'x': 111, 'y': 82, 'z': -95}\n",
      "POST http://localhost:3200/rpc, {'method': 'placeBlock', 'type': 'DIAMOND_BLOCK', 'x': 111, 'y': 83, 'z': -95}\n",
      "POST http://localhost:3200/rpc, {'method': 'placeBlock', 'type': 'DIAMOND_BLOCK', 'x': 111, 'y': 84, 'z': -95}\n",
      "POST http://localhost:3200/rpc, {'method': 'placeBlock', 'type': 'DIAMOND_BLOCK', 'x': 111, 'y': 85, 'z': -95}\n",
      "POST http://localhost:3200/rpc, {'method': 'placeBlock', 'type': 'DIAMOND_BLOCK', 'x': 111, 'y': 86, 'z': -95}\n",
      "POST http://localhost:3200/rpc, {'method': 'placeBlock', 'type': 'DIAMOND_BLOCK', 'x': 111, 'y': 87, 'z': -95}\n",
      "POST http://localhost:3200/rpc, {'method': 'placeBlock', 'type': 'DIAMOND_BLOCK', 'x': 111, 'y': 88, 'z': -95}\n",
      "POST http://localhost:3200/rpc, {'method': 'placeBlock', 'type': 'DIAMOND_BLOCK', 'x': 111, 'y': 89, 'z': -95}\n",
      "POST http://localhost:3200/rpc, {'method': 'placeBlock', 'type': 'DIAMOND_BLOCK', 'x': 111, 'y': 90, 'z': -95}\n",
      "POST http://localhost:3200/rpc, {'method': 'placeBlock', 'type': 'DIAMOND_BLOCK', 'x': 111, 'y': 91, 'z': -95}\n",
      "POST http://localhost:3200/rpc, {'method': 'placeBlock', 'type': 'DIAMOND_BLOCK', 'x': 111, 'y': 92, 'z': -95}\n",
      "POST http://localhost:3200/rpc, {'method': 'placeBlock', 'type': 'DIAMOND_BLOCK', 'x': 111, 'y': 93, 'z': -95}\n",
      "POST http://localhost:3200/rpc, {'method': 'placeBlock', 'type': 'DIAMOND_BLOCK', 'x': 111, 'y': 94, 'z': -95}\n",
      "POST http://localhost:3200/rpc, {'method': 'placeBlock', 'type': 'DIAMOND_BLOCK', 'x': 111, 'y': 95, 'z': -95}\n",
      "POST http://localhost:3200/rpc, {'method': 'placeBlock', 'type': 'DIAMOND_BLOCK', 'x': 111, 'y': 96, 'z': -95}\n",
      "POST http://localhost:3200/rpc, {'method': 'placeBlock', 'type': 'DIAMOND_BLOCK', 'x': 111, 'y': 97, 'z': -95}\n",
      "POST http://localhost:3200/rpc, {'method': 'placeBlock', 'type': 'DIAMOND_BLOCK', 'x': 111, 'y': 98, 'z': -95}\n",
      "POST http://localhost:3200/rpc, {'method': 'placeBlock', 'type': 'DIAMOND_BLOCK', 'x': 111, 'y': 99, 'z': -95}\n",
      "POST http://localhost:3200/rpc, {'method': 'placeBlock', 'type': 'DIAMOND_BLOCK', 'x': 111, 'y': 100, 'z': -95}\n",
      "POST http://localhost:3200/rpc, {'method': 'placeBlock', 'type': 'DIAMOND_BLOCK', 'x': 111, 'y': 101, 'z': -95}\n",
      "POST http://localhost:3200/rpc, {'method': 'placeBlock', 'type': 'DIAMOND_BLOCK', 'x': 111, 'y': 102, 'z': -95}\n",
      "POST http://localhost:3200/rpc, {'method': 'placeBlock', 'type': 'DIAMOND_BLOCK', 'x': 111, 'y': 103, 'z': -95}\n",
      "POST http://localhost:3200/rpc, {'method': 'placeBlock', 'type': 'DIAMOND_BLOCK', 'x': 111, 'y': 104, 'z': -95}\n",
      "POST http://localhost:3200/rpc, {'method': 'placeBlock', 'type': 'DIAMOND_BLOCK', 'x': 111, 'y': 105, 'z': -95}\n",
      "POST http://localhost:3200/rpc, {'method': 'placeBlock', 'type': 'DIAMOND_BLOCK', 'x': 111, 'y': 106, 'z': -95}\n",
      "POST http://localhost:3200/rpc, {'method': 'placeBlock', 'type': 'DIAMOND_BLOCK', 'x': 111, 'y': 107, 'z': -95}\n",
      "POST http://localhost:3200/rpc, {'method': 'placeBlock', 'type': 'DIAMOND_BLOCK', 'x': 111, 'y': 108, 'z': -95}\n",
      "POST http://localhost:3200/rpc, {'method': 'placeBlock', 'type': 'DIAMOND_BLOCK', 'x': 111, 'y': 109, 'z': -95}\n",
      "POST http://localhost:3200/rpc, {'method': 'placeBlock', 'type': 'DIAMOND_BLOCK', 'x': 111, 'y': 110, 'z': -95}\n",
      "POST http://localhost:3200/rpc, {'method': 'placeBlock', 'type': 'DIAMOND_BLOCK', 'x': 111, 'y': 111, 'z': -95}\n",
      "POST http://localhost:3200/rpc, {'method': 'placeBlock', 'type': 'DIAMOND_BLOCK', 'x': 111, 'y': 112, 'z': -95}\n",
      "POST http://localhost:3200/rpc, {'method': 'placeBlock', 'type': 'DIAMOND_BLOCK', 'x': 111, 'y': 113, 'z': -95}\n",
      "POST http://localhost:3200/rpc, {'method': 'placeBlock', 'type': 'DIAMOND_BLOCK', 'x': 111, 'y': 114, 'z': -95}\n",
      "POST http://localhost:3200/rpc, {'method': 'placeBlock', 'type': 'DIAMOND_BLOCK', 'x': 111, 'y': 115, 'z': -95}\n",
      "POST http://localhost:3200/rpc, {'method': 'placeBlock', 'type': 'DIAMOND_BLOCK', 'x': 111, 'y': 116, 'z': -95}\n",
      "POST http://localhost:3200/rpc, {'method': 'placeBlock', 'type': 'DIAMOND_BLOCK', 'x': 111, 'y': 117, 'z': -95}\n",
      "POST http://localhost:3200/rpc, {'method': 'placeBlock', 'type': 'DIAMOND_BLOCK', 'x': 111, 'y': 118, 'z': -95}\n",
      "POST http://localhost:3200/rpc, {'method': 'placeBlock', 'type': 'DIAMOND_BLOCK', 'x': 111, 'y': 119, 'z': -95}\n",
      "POST http://localhost:3200/rpc, {'method': 'placeBlock', 'type': 'DIAMOND_BLOCK', 'x': 111, 'y': 120, 'z': -95}\n",
      "POST http://localhost:3200/rpc, {'method': 'placeBlock', 'type': 'DIAMOND_BLOCK', 'x': 111, 'y': 121, 'z': -95}\n",
      "POST http://localhost:3200/rpc, {'method': 'placeBlock', 'type': 'DIAMOND_BLOCK', 'x': 111, 'y': 122, 'z': -95}\n",
      "POST http://localhost:3200/rpc, {'method': 'placeBlock', 'type': 'DIAMOND_BLOCK', 'x': 111, 'y': 123, 'z': -95}\n",
      "POST http://localhost:3200/rpc, {'method': 'placeBlock', 'type': 'DIAMOND_BLOCK', 'x': 111, 'y': 124, 'z': -95}\n",
      "POST http://localhost:3200/rpc, {'method': 'placeBlock', 'type': 'DIAMOND_BLOCK', 'x': 111, 'y': 125, 'z': -95}\n",
      "POST http://localhost:3200/rpc, {'method': 'placeBlock', 'type': 'DIAMOND_BLOCK', 'x': 111, 'y': 126, 'z': -95}\n",
      "POST http://localhost:3200/rpc, {'method': 'placeBlock', 'type': 'DIAMOND_BLOCK', 'x': 111, 'y': 127, 'z': -95}\n",
      "POST http://localhost:3200/rpc, {'method': 'placeBlock', 'type': 'DIAMOND_BLOCK', 'x': 111, 'y': 128, 'z': -95}\n",
      "POST http://localhost:3200/rpc, {'method': 'placeBlock', 'type': 'DIAMOND_BLOCK', 'x': 111, 'y': 129, 'z': -95}\n",
      "POST http://localhost:3200/rpc, {'method': 'placeBlock', 'type': 'DIAMOND_BLOCK', 'x': 111, 'y': 130, 'z': -95}\n",
      "POST http://localhost:3200/rpc, {'method': 'placeBlock', 'type': 'DIAMOND_BLOCK', 'x': 111, 'y': 131, 'z': -95}\n",
      "POST http://localhost:3200/rpc, {'method': 'placeBlock', 'type': 'DIAMOND_BLOCK', 'x': 111, 'y': 132, 'z': -95}\n",
      "POST http://localhost:3200/rpc, {'method': 'placeBlock', 'type': 'DIAMOND_BLOCK', 'x': 111, 'y': 133, 'z': -95}\n",
      "POST http://localhost:3200/rpc, {'method': 'placeBlock', 'type': 'DIAMOND_BLOCK', 'x': 111, 'y': 134, 'z': -95}\n",
      "POST http://localhost:3200/rpc, {'method': 'placeBlock', 'type': 'DIAMOND_BLOCK', 'x': 111, 'y': 135, 'z': -95}\n",
      "POST http://localhost:3200/rpc, {'method': 'placeBlock', 'type': 'DIAMOND_BLOCK', 'x': 111, 'y': 136, 'z': -95}\n",
      "POST http://localhost:3200/rpc, {'method': 'placeBlock', 'type': 'DIAMOND_BLOCK', 'x': 111, 'y': 137, 'z': -95}\n",
      "POST http://localhost:3200/rpc, {'method': 'placeBlock', 'type': 'DIAMOND_BLOCK', 'x': 111, 'y': 138, 'z': -95}\n",
      "POST http://localhost:3200/rpc, {'method': 'placeBlock', 'type': 'DIAMOND_BLOCK', 'x': 111, 'y': 139, 'z': -95}\n",
      "POST http://localhost:3200/rpc, {'method': 'placeBlock', 'type': 'DIAMOND_BLOCK', 'x': 111, 'y': 140, 'z': -95}\n",
      "POST http://localhost:3200/rpc, {'method': 'placeBlock', 'type': 'DIAMOND_BLOCK', 'x': 111, 'y': 141, 'z': -95}\n",
      "POST http://localhost:3200/rpc, {'method': 'placeBlock', 'type': 'DIAMOND_BLOCK', 'x': 111, 'y': 142, 'z': -95}\n",
      "POST http://localhost:3200/rpc, {'method': 'placeBlock', 'type': 'DIAMOND_BLOCK', 'x': 111, 'y': 143, 'z': -95}\n",
      "POST http://localhost:3200/rpc, {'method': 'placeBlock', 'type': 'DIAMOND_BLOCK', 'x': 111, 'y': 144, 'z': -95}\n",
      "POST http://localhost:3200/rpc, {'method': 'placeBlock', 'type': 'DIAMOND_BLOCK', 'x': 111, 'y': 145, 'z': -95}\n",
      "POST http://localhost:3200/rpc, {'method': 'placeBlock', 'type': 'DIAMOND_BLOCK', 'x': 111, 'y': 146, 'z': -95}\n",
      "POST http://localhost:3200/rpc, {'method': 'placeBlock', 'type': 'DIAMOND_BLOCK', 'x': 111, 'y': 147, 'z': -95}\n",
      "POST http://localhost:3200/rpc, {'method': 'placeBlock', 'type': 'DIAMOND_BLOCK', 'x': 111, 'y': 148, 'z': -95}\n",
      "POST http://localhost:3200/rpc, {'method': 'placeBlock', 'type': 'DIAMOND_BLOCK', 'x': 111, 'y': 149, 'z': -95}\n",
      "POST http://localhost:3200/rpc, {'method': 'placeBlock', 'type': 'DIAMOND_BLOCK', 'x': 111, 'y': 150, 'z': -95}\n",
      "POST http://localhost:3200/rpc, {'method': 'placeBlock', 'type': 'DIAMOND_BLOCK', 'x': 111, 'y': 151, 'z': -95}\n"
     ]
    }
   ],
   "source": [
    "player = p.player('mikalightsmith')\n",
    "for x in range(100):\n",
    "    p.place_block('DIAMOND_BLOCK', player.x, player.y + x, player.z)"
   ]
  },
  {
   "cell_type": "code",
   "execution_count": 1,
   "metadata": {},
   "outputs": [
    {
     "output_type": "error",
     "ename": "NameError",
     "evalue": "name 'p' is not defined",
     "traceback": [
      "\u001b[0;31m---------------------------------------------------------------------------\u001b[0m",
      "\u001b[0;31mNameError\u001b[0m                                 Traceback (most recent call last)",
      "\u001b[0;32m<ipython-input-1-9546f4a8b843>\u001b[0m in \u001b[0;36m<module>\u001b[0;34m\u001b[0m\n\u001b[0;32m----> 1\u001b[0;31m \u001b[0mp\u001b[0m\u001b[0;34m.\u001b[0m\u001b[0mlift_boot\u001b[0m\u001b[0;34m(\u001b[0m\u001b[0;34m)\u001b[0m\u001b[0;34m\u001b[0m\u001b[0;34m\u001b[0m\u001b[0m\n\u001b[0m",
      "\u001b[0;31mNameError\u001b[0m: name 'p' is not defined"
     ]
    }
   ],
   "source": [
    "p.lift_boot()"
   ]
  },
  {
   "cell_type": "code",
   "execution_count": null,
   "metadata": {},
   "outputs": [],
   "source": []
  }
 ]
}