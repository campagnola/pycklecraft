{
 "metadata": {
  "language_info": {
   "codemirror_mode": {
    "name": "ipython",
    "version": 3
   },
   "file_extension": ".py",
   "mimetype": "text/x-python",
   "name": "python",
   "nbconvert_exporter": "python",
   "pygments_lexer": "ipython3",
   "version": "3.8.5"
  },
  "orig_nbformat": 2,
  "kernelspec": {
   "name": "python3",
   "display_name": "Python 3.8.5 64-bit ('base': conda)"
  },
  "metadata": {
   "interpreter": {
    "hash": "b0fa6594d8f4cbf19f97940f81e996739fb7646882a419484c72d19e05852a7e"
   }
  },
  "interpreter": {
   "hash": "229db489fa231eaaf18dece1150aedb5d965922c1d3e7d766a396068cb94d372"
  }
 },
 "nbformat": 4,
 "nbformat_minor": 2,
 "cells": [
  {
   "cell_type": "code",
   "execution_count": 1,
   "metadata": {},
   "outputs": [],
   "source": [
    "import sys\n",
    "sys.path.append('../..')\n",
    "import pycklecraft\n",
    "\n",
    "p = pycklecraft.PicklecraftClient('flarion.local', verbose=True)"
   ]
  },
  {
   "cell_type": "code",
   "execution_count": 2,
   "metadata": {},
   "outputs": [
    {
     "output_type": "stream",
     "name": "stdout",
     "text": [
      "POST http://flarion.local:3200/rpc, {'method': 'getPlayers'}\n",
      "jeremylightsmith\n",
      "lcampagn\n"
     ]
    }
   ],
   "source": [
    "for player in p.players:\n",
    "    print(player.name)"
   ]
  },
  {
   "cell_type": "code",
   "execution_count": 3,
   "metadata": {},
   "outputs": [
    {
     "output_type": "stream",
     "name": "stdout",
     "text": [
      "POST http://flarion.local:3200/rpc, {'method': 'setDayTime', 'time': 'day'}\n"
     ]
    },
    {
     "output_type": "execute_result",
     "data": {
      "text/plain": [
       "{'status': 'OK'}"
      ]
     },
     "metadata": {},
     "execution_count": 3
    }
   ],
   "source": [
    "p.set_day_time('day')"
   ]
  },
  {
   "cell_type": "code",
   "execution_count": 4,
   "metadata": {},
   "outputs": [
    {
     "output_type": "stream",
     "name": "stdout",
     "text": [
      "POST http://flarion.local:3200/rpc, {'method': 'getPlayer', 'name': 'jeremylightsmith'}\nPOST http://flarion.local:3200/rpc, {'method': 'placeBlocks', 'type': 'air', 'fromPosition': [51, 63, -113], 'toPosition': [55, 65, -113]}\nPOST http://flarion.local:3200/rpc, {'method': 'placeBlocks', 'type': 'air', 'fromPosition': [51, 63, -109], 'toPosition': [55, 65, -109]}\nPOST http://flarion.local:3200/rpc, {'method': 'placeBlocks', 'type': 'air', 'fromPosition': [51, 63, -113], 'toPosition': [51, 65, -109]}\nPOST http://flarion.local:3200/rpc, {'method': 'placeBlocks', 'type': 'air', 'fromPosition': [55, 63, -113], 'toPosition': [55, 65, -109]}\nPOST http://flarion.local:3200/rpc, {'method': 'placeBlocks', 'type': 'air', 'fromPosition': [51, 65, -113], 'toPosition': [55, 65, -109]}\n"
     ]
    }
   ],
   "source": [
    "def cage(type, x, y, z):\n",
    "    p.place_blocks(type, [x-2, y, z-2], [x+2, y+2, z-2])\n",
    "    p.place_blocks(type, [x-2, y, z+2], [x+2, y+2, z+2])\n",
    "    p.place_blocks(type, [x-2, y, z-2], [x-2, y+2, z+2])\n",
    "    p.place_blocks(type, [x+2, y, z-2], [x+2, y+2, z+2])\n",
    "    p.place_blocks(type, [x-2, y+2, z-2], [x+2, y+2, z+2])\n",
    "player = p.player('jeremylightsmith')\n",
    "cage('air', player.x, player.y, player.z)"
   ]
  },
  {
   "cell_type": "code",
   "execution_count": 5,
   "metadata": {},
   "outputs": [
    {
     "output_type": "stream",
     "name": "stdout",
     "text": [
      "POST http://flarion.local:3200/rpc, {'method': 'getPlayer', 'name': 'jeremylightsmith'}\n"
     ]
    }
   ],
   "source": [
    "jeremy = p.player('jeremylightsmith')"
   ]
  },
  {
   "cell_type": "code",
   "execution_count": 6,
   "metadata": {},
   "outputs": [
    {
     "output_type": "execute_result",
     "data": {
      "text/plain": [
       "[3.5385005, 63.090363]"
      ]
     },
     "metadata": {},
     "execution_count": 6
    }
   ],
   "source": [
    "jeremy.rotation"
   ]
  },
  {
   "cell_type": "code",
   "execution_count": 7,
   "metadata": {},
   "outputs": [
    {
     "output_type": "stream",
     "name": "stdout",
     "text": [
      "POST http://flarion.local:3200/rpc, {'method': 'getPlayer', 'name': 'jeremylightsmith'}\nPOST http://flarion.local:3200/rpc, {'method': 'placeBlock', 'type': 'iron_ore', 'position': [52, 63, -111]}\nPOST http://flarion.local:3200/rpc, {'method': 'placeBlock', 'type': 'iron_ore', 'position': [51, 63, -110]}\nPOST http://flarion.local:3200/rpc, {'method': 'placeBlock', 'type': 'iron_ore', 'position': [51, 63, -110]}\nPOST http://flarion.local:3200/rpc, {'method': 'placeBlock', 'type': 'iron_ore', 'position': [50, 63, -110]}\nPOST http://flarion.local:3200/rpc, {'method': 'placeBlock', 'type': 'iron_ore', 'position': [49, 63, -109]}\n"
     ]
    }
   ],
   "source": [
    "jeremy = p.player('jeremylightsmith')\n",
    "p.place_blocks_in_line('iron_ore', jeremy.position, jeremy.rotation[1], 5)"
   ]
  },
  {
   "cell_type": "code",
   "execution_count": 8,
   "metadata": {},
   "outputs": [
    {
     "output_type": "stream",
     "name": "stdout",
     "text": [
      "POST http://flarion.local:3200/rpc, {'method': 'getPlayer', 'name': 'jeremylightsmith'}\nPOST http://flarion.local:3200/rpc, {'method': 'getBlocks', 'fromPosition': [51, 61, -113], 'toPosition': [55, 65, -109]}\n"
     ]
    },
    {
     "output_type": "execute_result",
     "data": {
      "text/plain": [
       "[{'type': 'minecraft:sand'},\n",
       " {'type': 'minecraft:sand'},\n",
       " {'type': 'minecraft:sand'},\n",
       " {'type': 'minecraft:dirt'},\n",
       " {'type': 'minecraft:dirt'},\n",
       " {'type': 'minecraft:sand'},\n",
       " {'type': 'minecraft:sand'},\n",
       " {'type': 'minecraft:sand'},\n",
       " {'type': 'minecraft:dirt'},\n",
       " {'type': 'minecraft:dirt'},\n",
       " {'type': 'minecraft:air'},\n",
       " {'type': 'minecraft:air'},\n",
       " {'type': 'minecraft:air'},\n",
       " {'type': 'minecraft:air'},\n",
       " {'type': 'minecraft:air'},\n",
       " {'type': 'minecraft:air'},\n",
       " {'type': 'minecraft:air'},\n",
       " {'type': 'minecraft:air'},\n",
       " {'type': 'minecraft:air'},\n",
       " {'type': 'minecraft:air'},\n",
       " {'type': 'minecraft:air'},\n",
       " {'type': 'minecraft:air'},\n",
       " {'type': 'minecraft:air'},\n",
       " {'type': 'minecraft:air'},\n",
       " {'type': 'minecraft:air'},\n",
       " {'type': 'minecraft:sand'},\n",
       " {'type': 'minecraft:sand'},\n",
       " {'type': 'minecraft:sand'},\n",
       " {'type': 'minecraft:gravel'},\n",
       " {'type': 'minecraft:dirt'},\n",
       " {'type': 'minecraft:sand'},\n",
       " {'type': 'minecraft:sand'},\n",
       " {'type': 'minecraft:sand'},\n",
       " {'type': 'minecraft:gravel'},\n",
       " {'type': 'minecraft:dirt'},\n",
       " {'type': 'minecraft:air'},\n",
       " {'type': 'minecraft:air'},\n",
       " {'type': 'minecraft:air'},\n",
       " {'type': 'minecraft:air'},\n",
       " {'type': 'minecraft:air'},\n",
       " {'type': 'minecraft:air'},\n",
       " {'type': 'minecraft:air'},\n",
       " {'type': 'minecraft:air'},\n",
       " {'type': 'minecraft:air'},\n",
       " {'type': 'minecraft:air'},\n",
       " {'type': 'minecraft:air'},\n",
       " {'type': 'minecraft:air'},\n",
       " {'type': 'minecraft:air'},\n",
       " {'type': 'minecraft:air'},\n",
       " {'type': 'minecraft:air'},\n",
       " {'type': 'minecraft:sand'},\n",
       " {'type': 'minecraft:sand'},\n",
       " {'type': 'minecraft:sand'},\n",
       " {'type': 'minecraft:sand'},\n",
       " {'type': 'minecraft:gravel'},\n",
       " {'type': 'minecraft:water', 'properties': {'level': '0'}},\n",
       " {'type': 'minecraft:water', 'properties': {'level': '0'}},\n",
       " {'type': 'minecraft:sand'},\n",
       " {'type': 'minecraft:sand'},\n",
       " {'type': 'minecraft:gravel'},\n",
       " {'type': 'minecraft:air'},\n",
       " {'type': 'minecraft:iron_ore'},\n",
       " {'type': 'minecraft:air'},\n",
       " {'type': 'minecraft:air'},\n",
       " {'type': 'minecraft:air'},\n",
       " {'type': 'minecraft:air'},\n",
       " {'type': 'minecraft:air'},\n",
       " {'type': 'minecraft:air'},\n",
       " {'type': 'minecraft:air'},\n",
       " {'type': 'minecraft:air'},\n",
       " {'type': 'minecraft:air'},\n",
       " {'type': 'minecraft:air'},\n",
       " {'type': 'minecraft:air'},\n",
       " {'type': 'minecraft:air'},\n",
       " {'type': 'minecraft:air'},\n",
       " {'type': 'minecraft:water', 'properties': {'level': '0'}},\n",
       " {'type': 'minecraft:sand'},\n",
       " {'type': 'minecraft:sand'},\n",
       " {'type': 'minecraft:gravel'},\n",
       " {'type': 'minecraft:gravel'},\n",
       " {'type': 'minecraft:water', 'properties': {'level': '0'}},\n",
       " {'type': 'minecraft:water', 'properties': {'level': '0'}},\n",
       " {'type': 'minecraft:water', 'properties': {'level': '0'}},\n",
       " {'type': 'minecraft:gravel'},\n",
       " {'type': 'minecraft:gravel'},\n",
       " {'type': 'minecraft:iron_ore'},\n",
       " {'type': 'minecraft:air'},\n",
       " {'type': 'minecraft:air'},\n",
       " {'type': 'minecraft:air'},\n",
       " {'type': 'minecraft:air'},\n",
       " {'type': 'minecraft:air'},\n",
       " {'type': 'minecraft:air'},\n",
       " {'type': 'minecraft:air'},\n",
       " {'type': 'minecraft:air'},\n",
       " {'type': 'minecraft:air'},\n",
       " {'type': 'minecraft:air'},\n",
       " {'type': 'minecraft:air'},\n",
       " {'type': 'minecraft:air'},\n",
       " {'type': 'minecraft:air'},\n",
       " {'type': 'minecraft:air'},\n",
       " {'type': 'minecraft:water', 'properties': {'level': '0'}},\n",
       " {'type': 'minecraft:water', 'properties': {'level': '0'}},\n",
       " {'type': 'minecraft:water', 'properties': {'level': '0'}},\n",
       " {'type': 'minecraft:gravel'},\n",
       " {'type': 'minecraft:gravel'},\n",
       " {'type': 'minecraft:water', 'properties': {'level': '0'}},\n",
       " {'type': 'minecraft:gold_block'},\n",
       " {'type': 'minecraft:water', 'properties': {'level': '0'}},\n",
       " {'type': 'minecraft:water', 'properties': {'level': '0'}},\n",
       " {'type': 'minecraft:gravel'},\n",
       " {'type': 'minecraft:air'},\n",
       " {'type': 'minecraft:air'},\n",
       " {'type': 'minecraft:air'},\n",
       " {'type': 'minecraft:air'},\n",
       " {'type': 'minecraft:air'},\n",
       " {'type': 'minecraft:air'},\n",
       " {'type': 'minecraft:air'},\n",
       " {'type': 'minecraft:air'},\n",
       " {'type': 'minecraft:air'},\n",
       " {'type': 'minecraft:air'},\n",
       " {'type': 'minecraft:air'},\n",
       " {'type': 'minecraft:air'},\n",
       " {'type': 'minecraft:air'},\n",
       " {'type': 'minecraft:air'},\n",
       " {'type': 'minecraft:air'}]"
      ]
     },
     "metadata": {},
     "execution_count": 8
    }
   ],
   "source": [
    "j = p.player('jeremylightsmith')\n",
    "p.get_blocks([j.x-2, j.y-2, j.z-2], [j.x+2, j.y+2, j.z+2])"
   ]
  },
  {
   "cell_type": "code",
   "execution_count": 9,
   "metadata": {},
   "outputs": [
    {
     "output_type": "stream",
     "name": "stdout",
     "text": [
      "POST http://flarion.local:3200/rpc, {'method': 'getPlayer', 'name': 'jeremylightsmith'}\nPOST http://flarion.local:3200/rpc, {'method': 'placeBlock', 'type': 'iron_ore', 'position': [53, 66, -111]}\n"
     ]
    },
    {
     "output_type": "execute_result",
     "data": {
      "text/plain": [
       "{'status': 'OK'}"
      ]
     },
     "metadata": {},
     "execution_count": 9
    }
   ],
   "source": [
    "jeremy = p.player('jeremylightsmith')\n",
    "p.place_block('iron_ore', [jeremy.x, jeremy.y + 3, jeremy.z])"
   ]
  },
  {
   "cell_type": "code",
   "execution_count": 10,
   "metadata": {},
   "outputs": [
    {
     "output_type": "stream",
     "name": "stdout",
     "text": [
      "POST http://flarion.local:3200/rpc, {'method': 'getNearbyEntities', 'playerName': 'jeremylightsmith', 'range': 1000}\n"
     ]
    },
    {
     "output_type": "execute_result",
     "data": {
      "text/plain": [
       "[{'rotation': [-90.0, -310.95016],\n",
       "  'name': 'lcampagn',\n",
       "  'id': 13110,\n",
       "  'position': [68.30016094747194, 66.0, -106.56552464680868]}]"
      ]
     },
     "metadata": {},
     "execution_count": 10
    }
   ],
   "source": [
    "p.nearby_entities('jeremylightsmith', 1000)"
   ]
  },
  {
   "cell_type": "code",
   "execution_count": 55,
   "metadata": {},
   "outputs": [
    {
     "output_type": "stream",
     "name": "stdout",
     "text": [
      "POST http://localhost:3200/rpc, {'method': 'liftBoot'}\n"
     ]
    },
    {
     "output_type": "execute_result",
     "data": {
      "text/plain": [
       "{'status': 'OK'}"
      ]
     },
     "metadata": {},
     "execution_count": 55
    }
   ],
   "source": [
    "p.lift_boot()"
   ]
  },
  {
   "cell_type": "code",
   "execution_count": 3,
   "metadata": {},
   "outputs": [],
   "source": [
    "def on_command(cmd):\n",
    "    print(\"CMD:\", cmd)\n",
    "\n",
    "p.set_on_command(on_command)"
   ]
  },
  {
   "cell_type": "code",
   "execution_count": null,
   "metadata": {},
   "outputs": [],
   "source": []
  }
 ]
}