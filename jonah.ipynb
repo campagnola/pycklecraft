{
 "metadata": {
  "language_info": {
   "codemirror_mode": {
    "name": "ipython",
    "version": 3
   },
   "file_extension": ".py",
   "mimetype": "text/x-python",
   "name": "python",
   "nbconvert_exporter": "python",
   "pygments_lexer": "ipython3",
   "version": "3.8.5-final"
  },
  "orig_nbformat": 2,
  "kernelspec": {
   "name": "python385jvsc74a57bd0f2477bfea004935beb9bca2193ed79dbf21cf485a09671df78f5e9307cb7a17b",
   "display_name": "Python 3.8.5 64-bit ('miniconda3': virtualenv)"
  },
  "metadata": {
   "interpreter": {
    "hash": "aee8b7b246df8f9039afb4144a1f6fd8d2ca17a180786b69acc140d282b71a49"
   }
  }
 },
 "nbformat": 4,
 "nbformat_minor": 2,
 "cells": [
  {
   "cell_type": "code",
   "execution_count": 180,
   "metadata": {},
   "outputs": [],
   "source": [
    "import pycklecraft\n",
    "import sys\n",
    "import time\n",
    "\n",
    "p = pycklecraft.PicklecraftClient('flarion.local', verbose=True)"
   ]
  },
  {
   "cell_type": "code",
   "execution_count": 10,
   "metadata": {},
   "outputs": [
    {
     "output_type": "stream",
     "name": "stdout",
     "text": [
      "POST http://flarion.local:3200/rpc, {'method': 'getPlayer', 'name': 'mikalightsmith'}\n"
     ]
    }
   ],
   "source": [
    "jonah = p.player('mikalightsmith')"
   ]
  },
  {
   "cell_type": "code",
   "execution_count": 192,
   "metadata": {
    "tags": []
   },
   "outputs": [
    {
     "output_type": "stream",
     "name": "stdout",
     "text": [
      "covering mika...\n",
      "POST http://flarion.local:3200/rpc, {'method': 'getPlayer', 'name': 'mikalightsmith'}\n",
      "POST http://flarion.local:3200/rpc, {'method': 'placeBlock', 'type': 'NETHERITE_BLOCK', 'x': 20, 'y': 57, 'z': -117}\n",
      "covering mika...\n",
      "POST http://flarion.local:3200/rpc, {'method': 'getPlayer', 'name': 'mikalightsmith'}\n",
      "POST http://flarion.local:3200/rpc, {'method': 'placeBlock', 'type': 'NETHERITE_BLOCK', 'x': 20, 'y': 57, 'z': -117}\n",
      "covering mika...\n",
      "POST http://flarion.local:3200/rpc, {'method': 'getPlayer', 'name': 'mikalightsmith'}\n",
      "POST http://flarion.local:3200/rpc, {'method': 'placeBlock', 'type': 'NETHERITE_BLOCK', 'x': 20, 'y': 57, 'z': -117}\n",
      "covering mika...\n",
      "POST http://flarion.local:3200/rpc, {'method': 'getPlayer', 'name': 'mikalightsmith'}\n",
      "POST http://flarion.local:3200/rpc, {'method': 'placeBlock', 'type': 'NETHERITE_BLOCK', 'x': 20, 'y': 57, 'z': -117}\n",
      "covering mika...\n",
      "POST http://flarion.local:3200/rpc, {'method': 'getPlayer', 'name': 'mikalightsmith'}\n",
      "POST http://flarion.local:3200/rpc, {'method': 'placeBlock', 'type': 'NETHERITE_BLOCK', 'x': 20, 'y': 57, 'z': -117}\n",
      "covering mika...\n",
      "POST http://flarion.local:3200/rpc, {'method': 'getPlayer', 'name': 'mikalightsmith'}\n",
      "POST http://flarion.local:3200/rpc, {'method': 'placeBlock', 'type': 'NETHERITE_BLOCK', 'x': 20, 'y': 57, 'z': -117}\n",
      "covering mika...\n",
      "POST http://flarion.local:3200/rpc, {'method': 'getPlayer', 'name': 'mikalightsmith'}\n",
      "POST http://flarion.local:3200/rpc, {'method': 'placeBlock', 'type': 'NETHERITE_BLOCK', 'x': 20, 'y': 57, 'z': -117}\n",
      "covering mika...\n",
      "POST http://flarion.local:3200/rpc, {'method': 'getPlayer', 'name': 'mikalightsmith'}\n",
      "POST http://flarion.local:3200/rpc, {'method': 'placeBlock', 'type': 'NETHERITE_BLOCK', 'x': 20, 'y': 57, 'z': -117}\n",
      "covering mika...\n",
      "POST http://flarion.local:3200/rpc, {'method': 'getPlayer', 'name': 'mikalightsmith'}\n",
      "POST http://flarion.local:3200/rpc, {'method': 'placeBlock', 'type': 'NETHERITE_BLOCK', 'x': 20, 'y': 57, 'z': -117}\n",
      "covering mika...\n",
      "POST http://flarion.local:3200/rpc, {'method': 'getPlayer', 'name': 'mikalightsmith'}\n",
      "POST http://flarion.local:3200/rpc, {'method': 'placeBlock', 'type': 'NETHERITE_BLOCK', 'x': 20, 'y': 57, 'z': -117}\n",
      "covering mika...\n",
      "POST http://flarion.local:3200/rpc, {'method': 'getPlayer', 'name': 'mikalightsmith'}\n",
      "POST http://flarion.local:3200/rpc, {'method': 'placeBlock', 'type': 'NETHERITE_BLOCK', 'x': 20, 'y': 57, 'z': -117}\n",
      "covering mika...\n",
      "POST http://flarion.local:3200/rpc, {'method': 'getPlayer', 'name': 'mikalightsmith'}\n",
      "POST http://flarion.local:3200/rpc, {'method': 'placeBlock', 'type': 'NETHERITE_BLOCK', 'x': 20, 'y': 57, 'z': -117}\n",
      "covering mika...\n",
      "POST http://flarion.local:3200/rpc, {'method': 'getPlayer', 'name': 'mikalightsmith'}\n",
      "POST http://flarion.local:3200/rpc, {'method': 'placeBlock', 'type': 'NETHERITE_BLOCK', 'x': 20, 'y': 57, 'z': -117}\n",
      "covering mika...\n",
      "POST http://flarion.local:3200/rpc, {'method': 'getPlayer', 'name': 'mikalightsmith'}\n",
      "POST http://flarion.local:3200/rpc, {'method': 'placeBlock', 'type': 'NETHERITE_BLOCK', 'x': 20, 'y': 57, 'z': -117}\n",
      "covering mika...\n",
      "POST http://flarion.local:3200/rpc, {'method': 'getPlayer', 'name': 'mikalightsmith'}\n",
      "POST http://flarion.local:3200/rpc, {'method': 'placeBlock', 'type': 'NETHERITE_BLOCK', 'x': 20, 'y': 57, 'z': -117}\n",
      "covering mika...\n",
      "POST http://flarion.local:3200/rpc, {'method': 'getPlayer', 'name': 'mikalightsmith'}\n",
      "POST http://flarion.local:3200/rpc, {'method': 'placeBlock', 'type': 'NETHERITE_BLOCK', 'x': 20, 'y': 57, 'z': -117}\n",
      "covering mika...\n",
      "POST http://flarion.local:3200/rpc, {'method': 'getPlayer', 'name': 'mikalightsmith'}\n",
      "POST http://flarion.local:3200/rpc, {'method': 'placeBlock', 'type': 'NETHERITE_BLOCK', 'x': 20, 'y': 57, 'z': -117}\n",
      "covering mika...\n",
      "POST http://flarion.local:3200/rpc, {'method': 'getPlayer', 'name': 'mikalightsmith'}\n",
      "POST http://flarion.local:3200/rpc, {'method': 'placeBlock', 'type': 'NETHERITE_BLOCK', 'x': 20, 'y': 57, 'z': -117}\n",
      "covering mika...\n",
      "POST http://flarion.local:3200/rpc, {'method': 'getPlayer', 'name': 'mikalightsmith'}\n",
      "POST http://flarion.local:3200/rpc, {'method': 'placeBlock', 'type': 'NETHERITE_BLOCK', 'x': 20, 'y': 57, 'z': -117}\n",
      "covering mika...\n",
      "POST http://flarion.local:3200/rpc, {'method': 'getPlayer', 'name': 'mikalightsmith'}\n",
      "POST http://flarion.local:3200/rpc, {'method': 'placeBlock', 'type': 'NETHERITE_BLOCK', 'x': 20, 'y': 57, 'z': -117}\n",
      "covering mika...\n",
      "POST http://flarion.local:3200/rpc, {'method': 'getPlayer', 'name': 'mikalightsmith'}\n",
      "POST http://flarion.local:3200/rpc, {'method': 'placeBlock', 'type': 'NETHERITE_BLOCK', 'x': 20, 'y': 57, 'z': -117}\n",
      "covering mika...\n",
      "POST http://flarion.local:3200/rpc, {'method': 'getPlayer', 'name': 'mikalightsmith'}\n",
      "POST http://flarion.local:3200/rpc, {'method': 'placeBlock', 'type': 'NETHERITE_BLOCK', 'x': 20, 'y': 57, 'z': -117}\n",
      "covering mika...\n",
      "POST http://flarion.local:3200/rpc, {'method': 'getPlayer', 'name': 'mikalightsmith'}\n",
      "POST http://flarion.local:3200/rpc, {'method': 'placeBlock', 'type': 'NETHERITE_BLOCK', 'x': 20, 'y': 57, 'z': -117}\n",
      "covering mika...\n",
      "POST http://flarion.local:3200/rpc, {'method': 'getPlayer', 'name': 'mikalightsmith'}\n",
      "POST http://flarion.local:3200/rpc, {'method': 'placeBlock', 'type': 'NETHERITE_BLOCK', 'x': 20, 'y': 57, 'z': -117}\n",
      "covering mika...\n",
      "POST http://flarion.local:3200/rpc, {'method': 'getPlayer', 'name': 'mikalightsmith'}\n",
      "POST http://flarion.local:3200/rpc, {'method': 'placeBlock', 'type': 'NETHERITE_BLOCK', 'x': 20, 'y': 57, 'z': -117}\n",
      "covering mika...\n",
      "POST http://flarion.local:3200/rpc, {'method': 'getPlayer', 'name': 'mikalightsmith'}\n",
      "POST http://flarion.local:3200/rpc, {'method': 'placeBlock', 'type': 'NETHERITE_BLOCK', 'x': 20, 'y': 57, 'z': -117}\n",
      "covering mika...\n",
      "POST http://flarion.local:3200/rpc, {'method': 'getPlayer', 'name': 'mikalightsmith'}\n",
      "POST http://flarion.local:3200/rpc, {'method': 'placeBlock', 'type': 'NETHERITE_BLOCK', 'x': 20, 'y': 57, 'z': -117}\n",
      "covering mika...\n",
      "POST http://flarion.local:3200/rpc, {'method': 'getPlayer', 'name': 'mikalightsmith'}\n",
      "POST http://flarion.local:3200/rpc, {'method': 'placeBlock', 'type': 'NETHERITE_BLOCK', 'x': 20, 'y': 57, 'z': -117}\n",
      "covering mika...\n",
      "POST http://flarion.local:3200/rpc, {'method': 'getPlayer', 'name': 'mikalightsmith'}\n",
      "POST http://flarion.local:3200/rpc, {'method': 'placeBlock', 'type': 'NETHERITE_BLOCK', 'x': 20, 'y': 57, 'z': -117}\n",
      "covering mika...\n",
      "POST http://flarion.local:3200/rpc, {'method': 'getPlayer', 'name': 'mikalightsmith'}\n",
      "POST http://flarion.local:3200/rpc, {'method': 'placeBlock', 'type': 'NETHERITE_BLOCK', 'x': 20, 'y': 57, 'z': -117}\n",
      "covering mika...\n",
      "POST http://flarion.local:3200/rpc, {'method': 'getPlayer', 'name': 'mikalightsmith'}\n",
      "POST http://flarion.local:3200/rpc, {'method': 'placeBlock', 'type': 'NETHERITE_BLOCK', 'x': 20, 'y': 57, 'z': -117}\n",
      "covering mika...\n",
      "POST http://flarion.local:3200/rpc, {'method': 'getPlayer', 'name': 'mikalightsmith'}\n",
      "POST http://flarion.local:3200/rpc, {'method': 'placeBlock', 'type': 'NETHERITE_BLOCK', 'x': 20, 'y': 57, 'z': -117}\n",
      "covering mika...\n",
      "POST http://flarion.local:3200/rpc, {'method': 'getPlayer', 'name': 'mikalightsmith'}\n",
      "POST http://flarion.local:3200/rpc, {'method': 'placeBlock', 'type': 'NETHERITE_BLOCK', 'x': 20, 'y': 57, 'z': -117}\n",
      "covering mika...\n",
      "POST http://flarion.local:3200/rpc, {'method': 'getPlayer', 'name': 'mikalightsmith'}\n",
      "POST http://flarion.local:3200/rpc, {'method': 'placeBlock', 'type': 'NETHERITE_BLOCK', 'x': 20, 'y': 57, 'z': -117}\n",
      "covering mika...\n",
      "POST http://flarion.local:3200/rpc, {'method': 'getPlayer', 'name': 'mikalightsmith'}\n",
      "POST http://flarion.local:3200/rpc, {'method': 'placeBlock', 'type': 'NETHERITE_BLOCK', 'x': 20, 'y': 57, 'z': -117}\n",
      "covering mika...\n",
      "POST http://flarion.local:3200/rpc, {'method': 'getPlayer', 'name': 'mikalightsmith'}\n",
      "POST http://flarion.local:3200/rpc, {'method': 'placeBlock', 'type': 'NETHERITE_BLOCK', 'x': 20, 'y': 57, 'z': -117}\n",
      "covering mika...\n",
      "POST http://flarion.local:3200/rpc, {'method': 'getPlayer', 'name': 'mikalightsmith'}\n",
      "POST http://flarion.local:3200/rpc, {'method': 'placeBlock', 'type': 'NETHERITE_BLOCK', 'x': 20, 'y': 57, 'z': -117}\n",
      "covering mika...\n",
      "POST http://flarion.local:3200/rpc, {'method': 'getPlayer', 'name': 'mikalightsmith'}\n",
      "POST http://flarion.local:3200/rpc, {'method': 'placeBlock', 'type': 'NETHERITE_BLOCK', 'x': 20, 'y': 57, 'z': -117}\n",
      "covering mika...\n",
      "POST http://flarion.local:3200/rpc, {'method': 'getPlayer', 'name': 'mikalightsmith'}\n",
      "POST http://flarion.local:3200/rpc, {'method': 'placeBlock', 'type': 'NETHERITE_BLOCK', 'x': 20, 'y': 57, 'z': -117}\n",
      "covering mika...\n",
      "POST http://flarion.local:3200/rpc, {'method': 'getPlayer', 'name': 'mikalightsmith'}\n",
      "POST http://flarion.local:3200/rpc, {'method': 'placeBlock', 'type': 'NETHERITE_BLOCK', 'x': 20, 'y': 57, 'z': -117}\n",
      "covering mika...\n",
      "POST http://flarion.local:3200/rpc, {'method': 'getPlayer', 'name': 'mikalightsmith'}\n",
      "POST http://flarion.local:3200/rpc, {'method': 'placeBlock', 'type': 'NETHERITE_BLOCK', 'x': 20, 'y': 57, 'z': -117}\n",
      "covering mika...\n",
      "POST http://flarion.local:3200/rpc, {'method': 'getPlayer', 'name': 'mikalightsmith'}\n",
      "POST http://flarion.local:3200/rpc, {'method': 'placeBlock', 'type': 'NETHERITE_BLOCK', 'x': 20, 'y': 57, 'z': -117}\n",
      "covering mika...\n",
      "POST http://flarion.local:3200/rpc, {'method': 'getPlayer', 'name': 'mikalightsmith'}\n",
      "POST http://flarion.local:3200/rpc, {'method': 'placeBlock', 'type': 'NETHERITE_BLOCK', 'x': 20, 'y': 57, 'z': -117}\n",
      "covering mika...\n",
      "POST http://flarion.local:3200/rpc, {'method': 'getPlayer', 'name': 'mikalightsmith'}\n",
      "POST http://flarion.local:3200/rpc, {'method': 'placeBlock', 'type': 'NETHERITE_BLOCK', 'x': 20, 'y': 57, 'z': -117}\n",
      "covering mika...\n",
      "POST http://flarion.local:3200/rpc, {'method': 'getPlayer', 'name': 'mikalightsmith'}\n",
      "POST http://flarion.local:3200/rpc, {'method': 'placeBlock', 'type': 'NETHERITE_BLOCK', 'x': 20, 'y': 57, 'z': -117}\n",
      "covering mika...\n",
      "POST http://flarion.local:3200/rpc, {'method': 'getPlayer', 'name': 'mikalightsmith'}\n",
      "POST http://flarion.local:3200/rpc, {'method': 'placeBlock', 'type': 'NETHERITE_BLOCK', 'x': 20, 'y': 57, 'z': -117}\n",
      "covering mika...\n",
      "POST http://flarion.local:3200/rpc, {'method': 'getPlayer', 'name': 'mikalightsmith'}\n",
      "POST http://flarion.local:3200/rpc, {'method': 'placeBlock', 'type': 'NETHERITE_BLOCK', 'x': 20, 'y': 57, 'z': -117}\n",
      "covering mika...\n",
      "POST http://flarion.local:3200/rpc, {'method': 'getPlayer', 'name': 'mikalightsmith'}\n",
      "POST http://flarion.local:3200/rpc, {'method': 'placeBlock', 'type': 'NETHERITE_BLOCK', 'x': 20, 'y': 57, 'z': -117}\n",
      "covering mika...\n",
      "POST http://flarion.local:3200/rpc, {'method': 'getPlayer', 'name': 'mikalightsmith'}\n",
      "POST http://flarion.local:3200/rpc, {'method': 'placeBlock', 'type': 'NETHERITE_BLOCK', 'x': 20, 'y': 57, 'z': -117}\n",
      "covering mika...\n",
      "POST http://flarion.local:3200/rpc, {'method': 'getPlayer', 'name': 'mikalightsmith'}\n",
      "POST http://flarion.local:3200/rpc, {'method': 'placeBlock', 'type': 'NETHERITE_BLOCK', 'x': 20, 'y': 57, 'z': -117}\n",
      "covering mika...\n",
      "POST http://flarion.local:3200/rpc, {'method': 'getPlayer', 'name': 'mikalightsmith'}\n",
      "POST http://flarion.local:3200/rpc, {'method': 'placeBlock', 'type': 'NETHERITE_BLOCK', 'x': 20, 'y': 57, 'z': -117}\n",
      "covering mika...\n",
      "POST http://flarion.local:3200/rpc, {'method': 'getPlayer', 'name': 'mikalightsmith'}\n",
      "POST http://flarion.local:3200/rpc, {'method': 'placeBlock', 'type': 'NETHERITE_BLOCK', 'x': 20, 'y': 57, 'z': -117}\n",
      "covering mika...\n",
      "POST http://flarion.local:3200/rpc, {'method': 'getPlayer', 'name': 'mikalightsmith'}\n",
      "POST http://flarion.local:3200/rpc, {'method': 'placeBlock', 'type': 'NETHERITE_BLOCK', 'x': 20, 'y': 57, 'z': -117}\n",
      "covering mika...\n",
      "POST http://flarion.local:3200/rpc, {'method': 'getPlayer', 'name': 'mikalightsmith'}\n",
      "POST http://flarion.local:3200/rpc, {'method': 'placeBlock', 'type': 'NETHERITE_BLOCK', 'x': 20, 'y': 57, 'z': -117}\n",
      "covering mika...\n",
      "POST http://flarion.local:3200/rpc, {'method': 'getPlayer', 'name': 'mikalightsmith'}\n",
      "POST http://flarion.local:3200/rpc, {'method': 'placeBlock', 'type': 'NETHERITE_BLOCK', 'x': 20, 'y': 57, 'z': -117}\n",
      "covering mika...\n",
      "POST http://flarion.local:3200/rpc, {'method': 'getPlayer', 'name': 'mikalightsmith'}\n",
      "POST http://flarion.local:3200/rpc, {'method': 'placeBlock', 'type': 'NETHERITE_BLOCK', 'x': 20, 'y': 57, 'z': -117}\n",
      "covering mika...\n",
      "POST http://flarion.local:3200/rpc, {'method': 'getPlayer', 'name': 'mikalightsmith'}\n",
      "POST http://flarion.local:3200/rpc, {'method': 'placeBlock', 'type': 'NETHERITE_BLOCK', 'x': 20, 'y': 57, 'z': -117}\n",
      "covering mika...\n",
      "POST http://flarion.local:3200/rpc, {'method': 'getPlayer', 'name': 'mikalightsmith'}\n",
      "POST http://flarion.local:3200/rpc, {'method': 'placeBlock', 'type': 'NETHERITE_BLOCK', 'x': 20, 'y': 57, 'z': -117}\n",
      "covering mika...\n",
      "POST http://flarion.local:3200/rpc, {'method': 'getPlayer', 'name': 'mikalightsmith'}\n",
      "POST http://flarion.local:3200/rpc, {'method': 'placeBlock', 'type': 'NETHERITE_BLOCK', 'x': 20, 'y': 57, 'z': -117}\n",
      "covering mika...\n",
      "POST http://flarion.local:3200/rpc, {'method': 'getPlayer', 'name': 'mikalightsmith'}\n",
      "POST http://flarion.local:3200/rpc, {'method': 'placeBlock', 'type': 'NETHERITE_BLOCK', 'x': 20, 'y': 57, 'z': -117}\n",
      "covering mika...\n",
      "POST http://flarion.local:3200/rpc, {'method': 'getPlayer', 'name': 'mikalightsmith'}\n",
      "POST http://flarion.local:3200/rpc, {'method': 'placeBlock', 'type': 'NETHERITE_BLOCK', 'x': 20, 'y': 57, 'z': -117}\n",
      "covering mika...\n",
      "POST http://flarion.local:3200/rpc, {'method': 'getPlayer', 'name': 'mikalightsmith'}\n",
      "POST http://flarion.local:3200/rpc, {'method': 'placeBlock', 'type': 'NETHERITE_BLOCK', 'x': 20, 'y': 57, 'z': -117}\n",
      "covering mika...\n",
      "POST http://flarion.local:3200/rpc, {'method': 'getPlayer', 'name': 'mikalightsmith'}\n"
     ]
    },
    {
     "output_type": "error",
     "ename": "KeyError",
     "evalue": "'position'",
     "traceback": [
      "\u001b[0;31m---------------------------------------------------------------------------\u001b[0m",
      "\u001b[0;31mKeyError\u001b[0m                                  Traceback (most recent call last)",
      "\u001b[0;32m<ipython-input-192-89399c897121>\u001b[0m in \u001b[0;36m<module>\u001b[0;34m\u001b[0m\n\u001b[1;32m      2\u001b[0m     \u001b[0mprint\u001b[0m\u001b[0;34m(\u001b[0m\u001b[0;34m\"covering mika...\"\u001b[0m\u001b[0;34m)\u001b[0m\u001b[0;34m\u001b[0m\u001b[0;34m\u001b[0m\u001b[0m\n\u001b[1;32m      3\u001b[0m     \u001b[0mjonah\u001b[0m \u001b[0;34m=\u001b[0m \u001b[0mp\u001b[0m\u001b[0;34m.\u001b[0m\u001b[0mplayer\u001b[0m\u001b[0;34m(\u001b[0m\u001b[0;34m'mikalightsmith'\u001b[0m\u001b[0;34m)\u001b[0m\u001b[0;34m\u001b[0m\u001b[0;34m\u001b[0m\u001b[0m\n\u001b[0;32m----> 4\u001b[0;31m     \u001b[0mp\u001b[0m\u001b[0;34m.\u001b[0m\u001b[0mplace_block\u001b[0m\u001b[0;34m(\u001b[0m\u001b[0;34m'NETHERITE_BLOCK'\u001b[0m\u001b[0;34m,\u001b[0m \u001b[0mjonah\u001b[0m\u001b[0;34m.\u001b[0m\u001b[0mx\u001b[0m\u001b[0;34m,\u001b[0m \u001b[0mjonah\u001b[0m\u001b[0;34m.\u001b[0m\u001b[0my\u001b[0m \u001b[0;34m+\u001b[0m \u001b[0;36m2\u001b[0m\u001b[0;34m,\u001b[0m \u001b[0mjonah\u001b[0m\u001b[0;34m.\u001b[0m\u001b[0mz\u001b[0m\u001b[0;34m)\u001b[0m\u001b[0;34m\u001b[0m\u001b[0;34m\u001b[0m\u001b[0m\n\u001b[0m\u001b[1;32m      5\u001b[0m     \u001b[0mtime\u001b[0m\u001b[0;34m.\u001b[0m\u001b[0msleep\u001b[0m\u001b[0;34m(\u001b[0m\u001b[0;36m0.001\u001b[0m\u001b[0;34m)\u001b[0m\u001b[0;34m\u001b[0m\u001b[0;34m\u001b[0m\u001b[0m\n",
      "\u001b[0;32m~/Projects/pycklecraft/pycklecraft/picklecraft.py\u001b[0m in \u001b[0;36mx\u001b[0;34m(self)\u001b[0m\n\u001b[1;32m     24\u001b[0m     \u001b[0;34m@\u001b[0m\u001b[0mproperty\u001b[0m\u001b[0;34m\u001b[0m\u001b[0;34m\u001b[0m\u001b[0m\n\u001b[1;32m     25\u001b[0m     \u001b[0;32mdef\u001b[0m \u001b[0mx\u001b[0m\u001b[0;34m(\u001b[0m\u001b[0mself\u001b[0m\u001b[0;34m)\u001b[0m\u001b[0;34m:\u001b[0m\u001b[0;34m\u001b[0m\u001b[0;34m\u001b[0m\u001b[0m\n\u001b[0;32m---> 26\u001b[0;31m         \u001b[0;32mreturn\u001b[0m \u001b[0mmath\u001b[0m\u001b[0;34m.\u001b[0m\u001b[0mfloor\u001b[0m\u001b[0;34m(\u001b[0m\u001b[0mself\u001b[0m\u001b[0;34m.\u001b[0m\u001b[0mposition\u001b[0m\u001b[0;34m[\u001b[0m\u001b[0;36m0\u001b[0m\u001b[0;34m]\u001b[0m\u001b[0;34m)\u001b[0m\u001b[0;34m\u001b[0m\u001b[0;34m\u001b[0m\u001b[0m\n\u001b[0m\u001b[1;32m     27\u001b[0m \u001b[0;34m\u001b[0m\u001b[0m\n\u001b[1;32m     28\u001b[0m     \u001b[0;34m@\u001b[0m\u001b[0mproperty\u001b[0m\u001b[0;34m\u001b[0m\u001b[0;34m\u001b[0m\u001b[0m\n",
      "\u001b[0;32m~/Projects/pycklecraft/pycklecraft/picklecraft.py\u001b[0m in \u001b[0;36mposition\u001b[0;34m(self)\u001b[0m\n\u001b[1;32m     20\u001b[0m     \u001b[0;34m@\u001b[0m\u001b[0mproperty\u001b[0m\u001b[0;34m\u001b[0m\u001b[0;34m\u001b[0m\u001b[0m\n\u001b[1;32m     21\u001b[0m     \u001b[0;32mdef\u001b[0m \u001b[0mposition\u001b[0m\u001b[0;34m(\u001b[0m\u001b[0mself\u001b[0m\u001b[0;34m)\u001b[0m\u001b[0;34m:\u001b[0m\u001b[0;34m\u001b[0m\u001b[0;34m\u001b[0m\u001b[0m\n\u001b[0;32m---> 22\u001b[0;31m         \u001b[0;32mreturn\u001b[0m \u001b[0mself\u001b[0m\u001b[0;34m.\u001b[0m\u001b[0mdata\u001b[0m\u001b[0;34m[\u001b[0m\u001b[0;34m'position'\u001b[0m\u001b[0;34m]\u001b[0m\u001b[0;34m\u001b[0m\u001b[0;34m\u001b[0m\u001b[0m\n\u001b[0m\u001b[1;32m     23\u001b[0m \u001b[0;34m\u001b[0m\u001b[0m\n\u001b[1;32m     24\u001b[0m     \u001b[0;34m@\u001b[0m\u001b[0mproperty\u001b[0m\u001b[0;34m\u001b[0m\u001b[0;34m\u001b[0m\u001b[0m\n",
      "\u001b[0;31mKeyError\u001b[0m: 'position'"
     ]
    }
   ],
   "source": [
    "for x in range(800):\n",
    "    print(\"covering mika...\")\n",
    "    jonah = p.player('mikalightsmith')\n",
    "    p.place_block('NETHERITE_BLOCK', jonah.x, jonah.y + 2, jonah.z)\n",
    "    time.sleep(0.001)\n"
   ]
  },
  {
   "cell_type": "code",
   "execution_count": 196,
   "metadata": {},
   "outputs": [
    {
     "output_type": "stream",
     "name": "stdout",
     "text": [
      "POST http://flarion.local:3200/rpc, {'method': 'liftBoot'}\n"
     ]
    },
    {
     "output_type": "execute_result",
     "data": {
      "text/plain": [
       "{'status': 'OK'}"
      ]
     },
     "metadata": {},
     "execution_count": 196
    }
   ],
   "source": [
    "p.lift_boot()"
   ]
  },
  {
   "cell_type": "code",
   "execution_count": null,
   "metadata": {},
   "outputs": [],
   "source": [
    "for x in range(800):\n",
    "    print(\"covering mika...\")\n",
    "    jonah = p.player('mikalightsmith')\n",
    "    p.place_block('NETHERITE_BLOCK', jonah.x, jonah.y + 2, jonah.z)\n",
    "    time.sleep(0.001)\n"
   ]
  }
 ]
}