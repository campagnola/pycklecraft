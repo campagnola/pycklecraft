{
 "metadata": {
  "language_info": {
   "codemirror_mode": {
    "name": "ipython",
    "version": 3
   },
   "file_extension": ".py",
   "mimetype": "text/x-python",
   "name": "python",
   "nbconvert_exporter": "python",
   "pygments_lexer": "ipython3",
   "version": "3.9.5"
  },
  "orig_nbformat": 2,
  "kernelspec": {
   "name": "python395jvsc74a57bd0b0fa6594d8f4cbf19f97940f81e996739fb7646882a419484c72d19e05852a7e",
   "display_name": "Python 3.9.5 64-bit"
  },
  "metadata": {
   "interpreter": {
    "hash": "b0fa6594d8f4cbf19f97940f81e996739fb7646882a419484c72d19e05852a7e"
   }
  }
 },
 "nbformat": 4,
 "nbformat_minor": 2,
 "cells": [
  {
   "cell_type": "code",
   "execution_count": 3,
   "metadata": {},
   "outputs": [],
   "source": [
    "import pycklecraft\n",
    "\n",
    "p = pycklecraft.PicklecraftClient('flarion.local', verbose=True)"
   ]
  },
  {
   "cell_type": "code",
   "execution_count": 4,
   "metadata": {},
   "outputs": [
    {
     "output_type": "stream",
     "name": "stdout",
     "text": [
      "POST http://flarion.local:3200/rpc, {'method': 'getPlayers'}\njeremylightsmith\n"
     ]
    }
   ],
   "source": [
    "for player in p.players:\n",
    "    print(player.name)"
   ]
  },
  {
   "cell_type": "code",
   "execution_count": 3,
   "metadata": {},
   "outputs": [
    {
     "output_type": "stream",
     "name": "stdout",
     "text": [
      "POST http://flarion.local:3200/rpc, {'method': 'setDayTime', 'time': 'day'}\n"
     ]
    },
    {
     "output_type": "execute_result",
     "data": {
      "text/plain": [
       "{'status': 'OK'}"
      ]
     },
     "metadata": {},
     "execution_count": 3
    }
   ],
   "source": [
    "p.set_day_time('day')"
   ]
  },
  {
   "cell_type": "code",
   "execution_count": 7,
   "metadata": {},
   "outputs": [
    {
     "output_type": "stream",
     "name": "stdout",
     "text": [
      "POST http://flarion.local:3200/rpc, {'method': 'getPlayer', 'name': 'jeremylightsmith'}\nPOST http://flarion.local:3200/rpc, {'method': 'placeBlocks', 'type': 'air', 'fromPosition': [65, 68, -134], 'toPosition': [69, 70, -134]}\nPOST http://flarion.local:3200/rpc, {'method': 'placeBlocks', 'type': 'air', 'fromPosition': [65, 68, -130], 'toPosition': [69, 70, -130]}\nPOST http://flarion.local:3200/rpc, {'method': 'placeBlocks', 'type': 'air', 'fromPosition': [65, 68, -134], 'toPosition': [65, 70, -130]}\nPOST http://flarion.local:3200/rpc, {'method': 'placeBlocks', 'type': 'air', 'fromPosition': [69, 68, -134], 'toPosition': [69, 70, -130]}\nPOST http://flarion.local:3200/rpc, {'method': 'placeBlocks', 'type': 'air', 'fromPosition': [65, 70, -134], 'toPosition': [69, 70, -130]}\n"
     ]
    }
   ],
   "source": [
    "def cage(type, x, y, z):\n",
    "    p.place_blocks(type, [x-2, y, z-2], [x+2, y+2, z-2])\n",
    "    p.place_blocks(type, [x-2, y, z+2], [x+2, y+2, z+2])\n",
    "    p.place_blocks(type, [x-2, y, z-2], [x-2, y+2, z+2])\n",
    "    p.place_blocks(type, [x+2, y, z-2], [x+2, y+2, z+2])\n",
    "    p.place_blocks(type, [x-2, y+2, z-2], [x+2, y+2, z+2])\n",
    "player = p.player('jeremylightsmith')\n",
    "cage('air', player.x, player.y, player.z)"
   ]
  },
  {
   "cell_type": "code",
   "execution_count": 4,
   "metadata": {},
   "outputs": [
    {
     "output_type": "stream",
     "name": "stdout",
     "text": [
      "POST http://flarion.local:3200/rpc, {'method': 'getPlayer', 'name': 'jeremylightsmith'}\n"
     ]
    }
   ],
   "source": [
    "jeremy = p.player('jeremylightsmith')"
   ]
  },
  {
   "cell_type": "code",
   "execution_count": 5,
   "metadata": {},
   "outputs": [
    {
     "output_type": "execute_result",
     "data": {
      "text/plain": [
       "[32.54999, 194.55003]"
      ]
     },
     "metadata": {},
     "execution_count": 5
    }
   ],
   "source": [
    "jeremy.rotation"
   ]
  },
  {
   "cell_type": "code",
   "execution_count": 5,
   "metadata": {},
   "outputs": [
    {
     "output_type": "stream",
     "name": "stdout",
     "text": [
      "POST http://flarion.local:3200/rpc, {'method': 'getPlayer', 'name': 'jeremylightsmith'}\nPOST http://flarion.local:3200/rpc, {'method': 'placeBlock', 'type': 'iron_ore', 'position': [59, 71, -163]}\nPOST http://flarion.local:3200/rpc, {'method': 'placeBlock', 'type': 'iron_ore', 'position': [59, 71, -162]}\nPOST http://flarion.local:3200/rpc, {'method': 'placeBlock', 'type': 'iron_ore', 'position': [58, 71, -161]}\nPOST http://flarion.local:3200/rpc, {'method': 'placeBlock', 'type': 'iron_ore', 'position': [58, 71, -161]}\nPOST http://flarion.local:3200/rpc, {'method': 'placeBlock', 'type': 'iron_ore', 'position': [58, 71, -160]}\n"
     ]
    }
   ],
   "source": [
    "jeremy = p.player('jeremylightsmith')\n",
    "p.place_blocks_in_line('iron_ore', jeremy.position, jeremy.rotation[1], 5)"
   ]
  },
  {
   "cell_type": "code",
   "execution_count": 54,
   "metadata": {},
   "outputs": [
    {
     "output_type": "stream",
     "name": "stdout",
     "text": [
      "POST http://localhost:3200/rpc, {'method': 'getPlayer', 'name': 'jeremylightsmith'}\nPOST http://localhost:3200/rpc, {'method': 'getBlocks', 'fromPosition': [66, 59, -242], 'toPosition': [70, 63, -238]}\n"
     ]
    },
    {
     "output_type": "execute_result",
     "data": {
      "text/plain": [
       "[{'type': 'minecraft:stone'},\n",
       " {'type': 'minecraft:stone'},\n",
       " {'type': 'minecraft:stone'},\n",
       " {'type': 'minecraft:stone'},\n",
       " {'type': 'minecraft:dirt'},\n",
       " {'type': 'minecraft:dirt'},\n",
       " {'type': 'minecraft:dirt'},\n",
       " {'type': 'minecraft:dirt'},\n",
       " {'type': 'minecraft:dirt'},\n",
       " {'type': 'minecraft:dirt'},\n",
       " {'type': 'minecraft:dirt'},\n",
       " {'type': 'minecraft:dirt'},\n",
       " {'type': 'minecraft:dirt'},\n",
       " {'type': 'minecraft:dirt'},\n",
       " {'type': 'minecraft:dirt'},\n",
       " {'type': 'minecraft:dirt'},\n",
       " {'type': 'minecraft:dirt'},\n",
       " {'type': 'minecraft:dirt'},\n",
       " {'type': 'minecraft:dirt'},\n",
       " {'type': 'minecraft:dirt'},\n",
       " {'type': 'minecraft:dirt'},\n",
       " {'type': 'minecraft:dirt'},\n",
       " {'type': 'minecraft:dirt'},\n",
       " {'type': 'minecraft:dirt'},\n",
       " {'type': 'minecraft:grass_block', 'properties': {'snowy': 'false'}},\n",
       " {'type': 'minecraft:stone'},\n",
       " {'type': 'minecraft:stone'},\n",
       " {'type': 'minecraft:stone'},\n",
       " {'type': 'minecraft:dirt'},\n",
       " {'type': 'minecraft:cave_air'},\n",
       " {'type': 'minecraft:dirt'},\n",
       " {'type': 'minecraft:dirt'},\n",
       " {'type': 'minecraft:dirt'},\n",
       " {'type': 'minecraft:grass_block', 'properties': {'snowy': 'false'}},\n",
       " {'type': 'minecraft:cave_air'},\n",
       " {'type': 'minecraft:dirt'},\n",
       " {'type': 'minecraft:dirt'},\n",
       " {'type': 'minecraft:dirt'},\n",
       " {'type': 'minecraft:cave_air'},\n",
       " {'type': 'minecraft:cave_air'},\n",
       " {'type': 'minecraft:dirt'},\n",
       " {'type': 'minecraft:dirt'},\n",
       " {'type': 'minecraft:dirt'},\n",
       " {'type': 'minecraft:cave_air'},\n",
       " {'type': 'minecraft:cave_air'},\n",
       " {'type': 'minecraft:dirt'},\n",
       " {'type': 'minecraft:dirt'},\n",
       " {'type': 'minecraft:dirt'},\n",
       " {'type': 'minecraft:cave_air'},\n",
       " {'type': 'minecraft:cave_air'},\n",
       " {'type': 'minecraft:stone'},\n",
       " {'type': 'minecraft:stone'},\n",
       " {'type': 'minecraft:dirt'},\n",
       " {'type': 'minecraft:cave_air'},\n",
       " {'type': 'minecraft:cave_air'},\n",
       " {'type': 'minecraft:dirt'},\n",
       " {'type': 'minecraft:dirt'},\n",
       " {'type': 'minecraft:grass_block', 'properties': {'snowy': 'false'}},\n",
       " {'type': 'minecraft:cave_air'},\n",
       " {'type': 'minecraft:cave_air'},\n",
       " {'type': 'minecraft:dirt'},\n",
       " {'type': 'minecraft:dirt'},\n",
       " {'type': 'minecraft:cave_air'},\n",
       " {'type': 'minecraft:cave_air'},\n",
       " {'type': 'minecraft:cave_air'},\n",
       " {'type': 'minecraft:dirt'},\n",
       " {'type': 'minecraft:dirt'},\n",
       " {'type': 'minecraft:cave_air'},\n",
       " {'type': 'minecraft:cave_air'},\n",
       " {'type': 'minecraft:cave_air'},\n",
       " {'type': 'minecraft:dirt'},\n",
       " {'type': 'minecraft:dirt'},\n",
       " {'type': 'minecraft:cave_air'},\n",
       " {'type': 'minecraft:cave_air'},\n",
       " {'type': 'minecraft:cave_air'},\n",
       " {'type': 'minecraft:dirt'},\n",
       " {'type': 'minecraft:dirt'},\n",
       " {'type': 'minecraft:grass_block', 'properties': {'snowy': 'false'}},\n",
       " {'type': 'minecraft:cave_air'},\n",
       " {'type': 'minecraft:cave_air'},\n",
       " {'type': 'minecraft:dirt'},\n",
       " {'type': 'minecraft:dirt'},\n",
       " {'type': 'minecraft:cave_air'},\n",
       " {'type': 'minecraft:cave_air'},\n",
       " {'type': 'minecraft:cave_air'},\n",
       " {'type': 'minecraft:dirt'},\n",
       " {'type': 'minecraft:dirt'},\n",
       " {'type': 'minecraft:cave_air'},\n",
       " {'type': 'minecraft:cave_air'},\n",
       " {'type': 'minecraft:cave_air'},\n",
       " {'type': 'minecraft:dirt'},\n",
       " {'type': 'minecraft:dirt'},\n",
       " {'type': 'minecraft:cave_air'},\n",
       " {'type': 'minecraft:cave_air'},\n",
       " {'type': 'minecraft:cave_air'},\n",
       " {'type': 'minecraft:grass_block', 'properties': {'snowy': 'false'}},\n",
       " {'type': 'minecraft:grass_block', 'properties': {'snowy': 'false'}},\n",
       " {'type': 'minecraft:cave_air'},\n",
       " {'type': 'minecraft:cave_air'},\n",
       " {'type': 'minecraft:cave_air'},\n",
       " {'type': 'minecraft:dirt'},\n",
       " {'type': 'minecraft:dirt'},\n",
       " {'type': 'minecraft:grass_block', 'properties': {'snowy': 'false'}},\n",
       " {'type': 'minecraft:cave_air'},\n",
       " {'type': 'minecraft:cave_air'},\n",
       " {'type': 'minecraft:dirt'},\n",
       " {'type': 'minecraft:dirt'},\n",
       " {'type': 'minecraft:cave_air'},\n",
       " {'type': 'minecraft:cave_air'},\n",
       " {'type': 'minecraft:cave_air'},\n",
       " {'type': 'minecraft:dirt'},\n",
       " {'type': 'minecraft:dirt'},\n",
       " {'type': 'minecraft:cave_air'},\n",
       " {'type': 'minecraft:cave_air'},\n",
       " {'type': 'minecraft:cave_air'},\n",
       " {'type': 'minecraft:dirt'},\n",
       " {'type': 'minecraft:dirt'},\n",
       " {'type': 'minecraft:cave_air'},\n",
       " {'type': 'minecraft:cave_air'},\n",
       " {'type': 'minecraft:cave_air'},\n",
       " {'type': 'minecraft:grass_block', 'properties': {'snowy': 'false'}},\n",
       " {'type': 'minecraft:grass_block', 'properties': {'snowy': 'false'}},\n",
       " {'type': 'minecraft:cave_air'},\n",
       " {'type': 'minecraft:cave_air'},\n",
       " {'type': 'minecraft:cave_air'}]"
      ]
     },
     "metadata": {},
     "execution_count": 54
    }
   ],
   "source": [
    "j = p.player('jeremylightsmith')\n",
    "p.get_blocks([j.x-2, j.y-2, j.z-2], [j.x+2, j.y+2, j.z+2])"
   ]
  },
  {
   "cell_type": "code",
   "execution_count": 57,
   "metadata": {},
   "outputs": [
    {
     "output_type": "stream",
     "name": "stdout",
     "text": [
      "POST http://localhost:3200/rpc, {'method': 'getPlayer', 'name': 'jeremylightsmith'}\nPOST http://localhost:3200/rpc, {'method': 'placeBlock', 'type': 'iron_ore', 'position': [63, 67, -238]}\n"
     ]
    },
    {
     "output_type": "execute_result",
     "data": {
      "text/plain": [
       "{'status': 'OK'}"
      ]
     },
     "metadata": {},
     "execution_count": 57
    }
   ],
   "source": [
    "jeremy = p.player('jeremylightsmith')\n",
    "p.place_block('iron_ore', [jeremy.x, jeremy.y + 3, jeremy.z])"
   ]
  },
  {
   "cell_type": "code",
   "execution_count": 12,
   "metadata": {},
   "outputs": [
    {
     "output_type": "stream",
     "name": "stdout",
     "text": [
      "POST http://localhost:3200/rpc, {'method': 'getNearbyEntities', 'playerName': 'jeremylightsmith', 'range': 1000}\n"
     ]
    },
    {
     "output_type": "execute_result",
     "data": {
      "text/plain": [
       "[{'rotation': [0.0, 113.56496],\n",
       "  'name': 'Spider',\n",
       "  'id': 1361,\n",
       "  'position': [65.63865439025042, 66.0, -229.2756400284152]}]"
      ]
     },
     "metadata": {},
     "execution_count": 12
    }
   ],
   "source": [
    "p.nearby_entities('jeremylightsmith', 1000)"
   ]
  },
  {
   "cell_type": "code",
   "execution_count": 55,
   "metadata": {},
   "outputs": [
    {
     "output_type": "stream",
     "name": "stdout",
     "text": [
      "POST http://localhost:3200/rpc, {'method': 'liftBoot'}\n"
     ]
    },
    {
     "output_type": "execute_result",
     "data": {
      "text/plain": [
       "{'status': 'OK'}"
      ]
     },
     "metadata": {},
     "execution_count": 55
    }
   ],
   "source": [
    "p.lift_boot()"
   ]
  },
  {
   "cell_type": "code",
   "execution_count": 58,
   "metadata": {},
   "outputs": [],
   "source": [
    "def on_command(cmd):\n",
    "    print(\"CMD:\", cmd)\n",
    "\n",
    "p.set_on_command(on_command)"
   ]
  },
  {
   "cell_type": "code",
   "execution_count": null,
   "metadata": {},
   "outputs": [],
   "source": []
  }
 ]
}