{
 "metadata": {
  "language_info": {
   "codemirror_mode": {
    "name": "ipython",
    "version": 3
   },
   "file_extension": ".py",
   "mimetype": "text/x-python",
   "name": "python",
   "nbconvert_exporter": "python",
   "pygments_lexer": "ipython3",
   "version": "3.9.4"
  },
  "orig_nbformat": 2,
  "kernelspec": {
   "name": "python394jvsc74a57bd0aee8b7b246df8f9039afb4144a1f6fd8d2ca17a180786b69acc140d282b71a49",
   "display_name": "Python 3.9.4 64-bit"
  },
  "metadata": {
   "interpreter": {
    "hash": "aee8b7b246df8f9039afb4144a1f6fd8d2ca17a180786b69acc140d282b71a49"
   }
  }
 },
 "nbformat": 4,
 "nbformat_minor": 2,
 "cells": [
  {
   "cell_type": "code",
   "execution_count": 3,
   "metadata": {},
   "outputs": [],
   "source": [
    "import pycklecraft\n",
    "import sys\n",
    "\n",
    "p = pycklecraft.PicklecraftClient('localhost', verbose=True)"
   ]
  },
  {
   "cell_type": "code",
   "execution_count": 4,
   "metadata": {},
   "outputs": [
    {
     "output_type": "stream",
     "name": "stdout",
     "text": [
      "POST http://localhost:3200/rpc, {'method': 'getPlayers'}\njeremylightsmith\n"
     ]
    }
   ],
   "source": [
    "for player in p.players:\n",
    "    print(player.name)"
   ]
  },
  {
   "cell_type": "code",
   "execution_count": 5,
   "metadata": {},
   "outputs": [
    {
     "output_type": "stream",
     "name": "stdout",
     "text": [
      "POST http://localhost:3200/rpc, {'method': 'setDayTime', 'time': 'day'}\n"
     ]
    },
    {
     "output_type": "execute_result",
     "data": {
      "text/plain": [
       "{'status': 'OK'}"
      ]
     },
     "metadata": {},
     "execution_count": 5
    }
   ],
   "source": [
    "p.set_day_time('day')"
   ]
  },
  {
   "cell_type": "code",
   "execution_count": 43,
   "metadata": {},
   "outputs": [
    {
     "output_type": "stream",
     "name": "stdout",
     "text": [
      "POST http://localhost:3200/rpc, {'method': 'getPlayer', 'name': 'jeremylightsmith'}\nPOST http://localhost:3200/rpc, {'method': 'placeBlocks', 'type': 'minecraft:air', 'fromPosition': [46, 66, -239], 'toPosition': [50, 68, -239]}\nPOST http://localhost:3200/rpc, {'method': 'placeBlocks', 'type': 'minecraft:air', 'fromPosition': [46, 66, -235], 'toPosition': [50, 68, -235]}\nPOST http://localhost:3200/rpc, {'method': 'placeBlocks', 'type': 'minecraft:air', 'fromPosition': [46, 66, -239], 'toPosition': [46, 68, -235]}\nPOST http://localhost:3200/rpc, {'method': 'placeBlocks', 'type': 'minecraft:air', 'fromPosition': [50, 66, -239], 'toPosition': [50, 68, -235]}\nPOST http://localhost:3200/rpc, {'method': 'placeBlocks', 'type': 'minecraft:air', 'fromPosition': [46, 68, -239], 'toPosition': [50, 68, -235]}\n"
     ]
    }
   ],
   "source": [
    "def cage(type, x, y, z):\n",
    "    p.place_blocks(type, [x-2, y, z-2], [x+2, y+2, z-2])\n",
    "    p.place_blocks(type, [x-2, y, z+2], [x+2, y+2, z+2])\n",
    "    p.place_blocks(type, [x-2, y, z-2], [x-2, y+2, z+2])\n",
    "    p.place_blocks(type, [x+2, y, z-2], [x+2, y+2, z+2])\n",
    "    p.place_blocks(type, [x-2, y+2, z-2], [x+2, y+2, z+2])\n",
    "player = p.player('jeremylightsmith')\n",
    "cage('air', player.x, player.y, player.z)"
   ]
  },
  {
   "cell_type": "code",
   "execution_count": 52,
   "metadata": {},
   "outputs": [
    {
     "output_type": "stream",
     "name": "stdout",
     "text": [
      "POST http://localhost:3200/rpc, {'method': 'getPlayer', 'name': 'jeremylightsmith'}\nPOST http://localhost:3200/rpc, {'method': 'placeBlocks', 'type': 'air', 'fromPosition': [69, 57, -237], 'toPosition': [71, 57, -235]}\n"
     ]
    },
    {
     "output_type": "execute_result",
     "data": {
      "text/plain": [
       "{'status': 'OK'}"
      ]
     },
     "metadata": {},
     "execution_count": 52
    }
   ],
   "source": [
    "player = p.player('jeremylightsmith')\n",
    "p.place_blocks('air', [player.x - 1, player.y, player.z - 1], [player.x + 1, player.y, player.z + 1])"
   ]
  },
  {
   "cell_type": "code",
   "execution_count": 54,
   "metadata": {},
   "outputs": [
    {
     "output_type": "stream",
     "name": "stdout",
     "text": [
      "POST http://localhost:3200/rpc, {'method': 'getPlayer', 'name': 'jeremylightsmith'}\nPOST http://localhost:3200/rpc, {'method': 'getBlocks', 'fromPosition': [66, 59, -242], 'toPosition': [70, 63, -238]}\n"
     ]
    },
    {
     "output_type": "execute_result",
     "data": {
      "text/plain": [
       "[{'type': 'minecraft:stone'},\n",
       " {'type': 'minecraft:stone'},\n",
       " {'type': 'minecraft:stone'},\n",
       " {'type': 'minecraft:stone'},\n",
       " {'type': 'minecraft:dirt'},\n",
       " {'type': 'minecraft:dirt'},\n",
       " {'type': 'minecraft:dirt'},\n",
       " {'type': 'minecraft:dirt'},\n",
       " {'type': 'minecraft:dirt'},\n",
       " {'type': 'minecraft:dirt'},\n",
       " {'type': 'minecraft:dirt'},\n",
       " {'type': 'minecraft:dirt'},\n",
       " {'type': 'minecraft:dirt'},\n",
       " {'type': 'minecraft:dirt'},\n",
       " {'type': 'minecraft:dirt'},\n",
       " {'type': 'minecraft:dirt'},\n",
       " {'type': 'minecraft:dirt'},\n",
       " {'type': 'minecraft:dirt'},\n",
       " {'type': 'minecraft:dirt'},\n",
       " {'type': 'minecraft:dirt'},\n",
       " {'type': 'minecraft:dirt'},\n",
       " {'type': 'minecraft:dirt'},\n",
       " {'type': 'minecraft:dirt'},\n",
       " {'type': 'minecraft:dirt'},\n",
       " {'type': 'minecraft:grass_block', 'properties': {'snowy': 'false'}},\n",
       " {'type': 'minecraft:stone'},\n",
       " {'type': 'minecraft:stone'},\n",
       " {'type': 'minecraft:stone'},\n",
       " {'type': 'minecraft:dirt'},\n",
       " {'type': 'minecraft:cave_air'},\n",
       " {'type': 'minecraft:dirt'},\n",
       " {'type': 'minecraft:dirt'},\n",
       " {'type': 'minecraft:dirt'},\n",
       " {'type': 'minecraft:grass_block', 'properties': {'snowy': 'false'}},\n",
       " {'type': 'minecraft:cave_air'},\n",
       " {'type': 'minecraft:dirt'},\n",
       " {'type': 'minecraft:dirt'},\n",
       " {'type': 'minecraft:dirt'},\n",
       " {'type': 'minecraft:cave_air'},\n",
       " {'type': 'minecraft:cave_air'},\n",
       " {'type': 'minecraft:dirt'},\n",
       " {'type': 'minecraft:dirt'},\n",
       " {'type': 'minecraft:dirt'},\n",
       " {'type': 'minecraft:cave_air'},\n",
       " {'type': 'minecraft:cave_air'},\n",
       " {'type': 'minecraft:dirt'},\n",
       " {'type': 'minecraft:dirt'},\n",
       " {'type': 'minecraft:dirt'},\n",
       " {'type': 'minecraft:cave_air'},\n",
       " {'type': 'minecraft:cave_air'},\n",
       " {'type': 'minecraft:stone'},\n",
       " {'type': 'minecraft:stone'},\n",
       " {'type': 'minecraft:dirt'},\n",
       " {'type': 'minecraft:cave_air'},\n",
       " {'type': 'minecraft:cave_air'},\n",
       " {'type': 'minecraft:dirt'},\n",
       " {'type': 'minecraft:dirt'},\n",
       " {'type': 'minecraft:grass_block', 'properties': {'snowy': 'false'}},\n",
       " {'type': 'minecraft:cave_air'},\n",
       " {'type': 'minecraft:cave_air'},\n",
       " {'type': 'minecraft:dirt'},\n",
       " {'type': 'minecraft:dirt'},\n",
       " {'type': 'minecraft:cave_air'},\n",
       " {'type': 'minecraft:cave_air'},\n",
       " {'type': 'minecraft:cave_air'},\n",
       " {'type': 'minecraft:dirt'},\n",
       " {'type': 'minecraft:dirt'},\n",
       " {'type': 'minecraft:cave_air'},\n",
       " {'type': 'minecraft:cave_air'},\n",
       " {'type': 'minecraft:cave_air'},\n",
       " {'type': 'minecraft:dirt'},\n",
       " {'type': 'minecraft:dirt'},\n",
       " {'type': 'minecraft:cave_air'},\n",
       " {'type': 'minecraft:cave_air'},\n",
       " {'type': 'minecraft:cave_air'},\n",
       " {'type': 'minecraft:dirt'},\n",
       " {'type': 'minecraft:dirt'},\n",
       " {'type': 'minecraft:grass_block', 'properties': {'snowy': 'false'}},\n",
       " {'type': 'minecraft:cave_air'},\n",
       " {'type': 'minecraft:cave_air'},\n",
       " {'type': 'minecraft:dirt'},\n",
       " {'type': 'minecraft:dirt'},\n",
       " {'type': 'minecraft:cave_air'},\n",
       " {'type': 'minecraft:cave_air'},\n",
       " {'type': 'minecraft:cave_air'},\n",
       " {'type': 'minecraft:dirt'},\n",
       " {'type': 'minecraft:dirt'},\n",
       " {'type': 'minecraft:cave_air'},\n",
       " {'type': 'minecraft:cave_air'},\n",
       " {'type': 'minecraft:cave_air'},\n",
       " {'type': 'minecraft:dirt'},\n",
       " {'type': 'minecraft:dirt'},\n",
       " {'type': 'minecraft:cave_air'},\n",
       " {'type': 'minecraft:cave_air'},\n",
       " {'type': 'minecraft:cave_air'},\n",
       " {'type': 'minecraft:grass_block', 'properties': {'snowy': 'false'}},\n",
       " {'type': 'minecraft:grass_block', 'properties': {'snowy': 'false'}},\n",
       " {'type': 'minecraft:cave_air'},\n",
       " {'type': 'minecraft:cave_air'},\n",
       " {'type': 'minecraft:cave_air'},\n",
       " {'type': 'minecraft:dirt'},\n",
       " {'type': 'minecraft:dirt'},\n",
       " {'type': 'minecraft:grass_block', 'properties': {'snowy': 'false'}},\n",
       " {'type': 'minecraft:cave_air'},\n",
       " {'type': 'minecraft:cave_air'},\n",
       " {'type': 'minecraft:dirt'},\n",
       " {'type': 'minecraft:dirt'},\n",
       " {'type': 'minecraft:cave_air'},\n",
       " {'type': 'minecraft:cave_air'},\n",
       " {'type': 'minecraft:cave_air'},\n",
       " {'type': 'minecraft:dirt'},\n",
       " {'type': 'minecraft:dirt'},\n",
       " {'type': 'minecraft:cave_air'},\n",
       " {'type': 'minecraft:cave_air'},\n",
       " {'type': 'minecraft:cave_air'},\n",
       " {'type': 'minecraft:dirt'},\n",
       " {'type': 'minecraft:dirt'},\n",
       " {'type': 'minecraft:cave_air'},\n",
       " {'type': 'minecraft:cave_air'},\n",
       " {'type': 'minecraft:cave_air'},\n",
       " {'type': 'minecraft:grass_block', 'properties': {'snowy': 'false'}},\n",
       " {'type': 'minecraft:grass_block', 'properties': {'snowy': 'false'}},\n",
       " {'type': 'minecraft:cave_air'},\n",
       " {'type': 'minecraft:cave_air'},\n",
       " {'type': 'minecraft:cave_air'}]"
      ]
     },
     "metadata": {},
     "execution_count": 54
    }
   ],
   "source": [
    "j = p.player('jeremylightsmith')\n",
    "p.get_blocks([j.x-2, j.y-2, j.z-2], [j.x+2, j.y+2, j.z+2])"
   ]
  },
  {
   "cell_type": "code",
   "execution_count": 57,
   "metadata": {},
   "outputs": [
    {
     "output_type": "stream",
     "name": "stdout",
     "text": [
      "POST http://localhost:3200/rpc, {'method': 'getPlayer', 'name': 'jeremylightsmith'}\nPOST http://localhost:3200/rpc, {'method': 'placeBlock', 'type': 'iron_ore', 'position': [63, 67, -238]}\n"
     ]
    },
    {
     "output_type": "execute_result",
     "data": {
      "text/plain": [
       "{'status': 'OK'}"
      ]
     },
     "metadata": {},
     "execution_count": 57
    }
   ],
   "source": [
    "jeremy = p.player('jeremylightsmith')\n",
    "p.place_block('iron_ore', [jeremy.x, jeremy.y + 3, jeremy.z])"
   ]
  },
  {
   "cell_type": "code",
   "execution_count": 12,
   "metadata": {},
   "outputs": [
    {
     "output_type": "stream",
     "name": "stdout",
     "text": [
      "POST http://localhost:3200/rpc, {'method': 'getNearbyEntities', 'playerName': 'jeremylightsmith', 'range': 1000}\n"
     ]
    },
    {
     "output_type": "execute_result",
     "data": {
      "text/plain": [
       "[{'rotation': [0.0, 113.56496],\n",
       "  'name': 'Spider',\n",
       "  'id': 1361,\n",
       "  'position': [65.63865439025042, 66.0, -229.2756400284152]}]"
      ]
     },
     "metadata": {},
     "execution_count": 12
    }
   ],
   "source": [
    "p.nearby_entities('jeremylightsmith', 1000)"
   ]
  },
  {
   "cell_type": "code",
   "execution_count": 55,
   "metadata": {},
   "outputs": [
    {
     "output_type": "stream",
     "name": "stdout",
     "text": [
      "POST http://localhost:3200/rpc, {'method': 'liftBoot'}\n"
     ]
    },
    {
     "output_type": "execute_result",
     "data": {
      "text/plain": [
       "{'status': 'OK'}"
      ]
     },
     "metadata": {},
     "execution_count": 55
    }
   ],
   "source": [
    "p.lift_boot()"
   ]
  },
  {
   "cell_type": "code",
   "execution_count": 58,
   "metadata": {},
   "outputs": [],
   "source": [
    "def on_command(cmd):\n",
    "    print(\"CMD:\", cmd)\n",
    "\n",
    "p.set_on_command(on_command)"
   ]
  },
  {
   "cell_type": "code",
   "execution_count": null,
   "metadata": {},
   "outputs": [],
   "source": []
  }
 ]
}